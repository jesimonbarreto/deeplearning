{
  "cells": [
    {
      "cell_type": "markdown",
      "source": [
        "Video Salvo em\n",
        "\n",
        "\n",
        "https://youtu.be/Ikp0ZLLAG8I\n"
      ],
      "metadata": {
        "id": "AY5fTthxvJ7_"
      }
    },
    {
      "cell_type": "code",
      "source": [
        "from google.colab import drive\n",
        "\n",
        "# Mount Google Drive to /content/drive\n",
        "drive.mount('/content/drive')\n",
        "\n",
        "dir_data = '/content/drive/MyDrive/datasets/'"
      ],
      "metadata": {
        "colab": {
          "base_uri": "https://localhost:8080/"
        },
        "id": "LMUkevpHbiXL",
        "outputId": "c2acdbbc-22ce-497a-d861-bdb031203bc2"
      },
      "execution_count": 2,
      "outputs": [
        {
          "output_type": "stream",
          "name": "stdout",
          "text": [
            "Drive already mounted at /content/drive; to attempt to forcibly remount, call drive.mount(\"/content/drive\", force_remount=True).\n"
          ]
        }
      ]
    },
    {
      "cell_type": "code",
      "source": [
        "!pip install keras==3.0.0"
      ],
      "metadata": {
        "colab": {
          "base_uri": "https://localhost:8080/"
        },
        "id": "SCryo-th_5MD",
        "outputId": "e314dd33-8af3-40c7-a97f-bf87af819c90"
      },
      "execution_count": 1,
      "outputs": [
        {
          "output_type": "stream",
          "name": "stdout",
          "text": [
            "Collecting keras==3.0.0\n",
            "  Downloading keras-3.0.0-py3-none-any.whl (997 kB)\n",
            "\u001b[2K     \u001b[90m━━━━━━━━━━━━━━━━━━━━━━━━━━━━━━━━━━━━━━━━\u001b[0m \u001b[32m997.1/997.1 kB\u001b[0m \u001b[31m7.1 MB/s\u001b[0m eta \u001b[36m0:00:00\u001b[0m\n",
            "\u001b[?25hRequirement already satisfied: absl-py in /usr/local/lib/python3.10/dist-packages (from keras==3.0.0) (1.4.0)\n",
            "Requirement already satisfied: numpy in /usr/local/lib/python3.10/dist-packages (from keras==3.0.0) (1.23.5)\n",
            "Requirement already satisfied: rich in /usr/local/lib/python3.10/dist-packages (from keras==3.0.0) (13.7.0)\n",
            "Collecting namex (from keras==3.0.0)\n",
            "  Downloading namex-0.0.7-py3-none-any.whl (5.8 kB)\n",
            "Requirement already satisfied: h5py in /usr/local/lib/python3.10/dist-packages (from keras==3.0.0) (3.9.0)\n",
            "Requirement already satisfied: dm-tree in /usr/local/lib/python3.10/dist-packages (from keras==3.0.0) (0.1.8)\n",
            "Requirement already satisfied: markdown-it-py>=2.2.0 in /usr/local/lib/python3.10/dist-packages (from rich->keras==3.0.0) (3.0.0)\n",
            "Requirement already satisfied: pygments<3.0.0,>=2.13.0 in /usr/local/lib/python3.10/dist-packages (from rich->keras==3.0.0) (2.16.1)\n",
            "Requirement already satisfied: mdurl~=0.1 in /usr/local/lib/python3.10/dist-packages (from markdown-it-py>=2.2.0->rich->keras==3.0.0) (0.1.2)\n",
            "Installing collected packages: namex, keras\n",
            "  Attempting uninstall: keras\n",
            "    Found existing installation: keras 2.14.0\n",
            "    Uninstalling keras-2.14.0:\n",
            "      Successfully uninstalled keras-2.14.0\n",
            "\u001b[31mERROR: pip's dependency resolver does not currently take into account all the packages that are installed. This behaviour is the source of the following dependency conflicts.\n",
            "tensorflow 2.14.0 requires keras<2.15,>=2.14.0, but you have keras 3.0.0 which is incompatible.\u001b[0m\u001b[31m\n",
            "\u001b[0mSuccessfully installed keras-3.0.0 namex-0.0.7\n"
          ]
        }
      ]
    },
    {
      "cell_type": "markdown",
      "source": [
        "## Importando os pacotes"
      ],
      "metadata": {
        "id": "Y76ddnTyjupn"
      }
    },
    {
      "cell_type": "code",
      "execution_count": 3,
      "metadata": {
        "id": "LxOicbbEnZcI"
      },
      "outputs": [],
      "source": [
        "import os, glob\n",
        "import scipy.io\n",
        "import matplotlib.pyplot as plt\n",
        "import numpy as np\n",
        "from mpl_toolkits.mplot3d import Axes3D\n",
        "# Ensure plots are displayed in the Jupyter Notebook\n",
        "%matplotlib inline\n",
        "\n",
        "\n",
        "os.environ[\"KERAS_BACKEND\"] = \"tensorflow\"  # @param [\"tensorflow\", \"jax\", \"torch\"]\n",
        "\n",
        "import keras\n",
        "from keras import layers\n",
        "from keras import ops\n",
        "import tensorflow as tf"
      ]
    },
    {
      "cell_type": "markdown",
      "source": [
        "## Funções importantes para utilização dos dados e plots"
      ],
      "metadata": {
        "id": "gvPqCupGj1QE"
      }
    },
    {
      "cell_type": "code",
      "execution_count": 4,
      "metadata": {
        "id": "-gFKIXIsu5WW"
      },
      "outputs": [],
      "source": [
        "def plot_signals(signals, sig, title=None, typ='linear'):\n",
        "    t = np.arange(signals.shape[0])  # Time steps\n",
        "    t1 = np.arange(sig.shape[0])\n",
        "\n",
        "    fig, (ax1, ax2) = plt.subplots(1, 2, figsize=(15, 6))\n",
        "\n",
        "    labels = ['Ax', 'Ay', 'Az']\n",
        "\n",
        "    # Plot the first three signals on one graph\n",
        "    for i in range(3):\n",
        "        ax1.plot(t, signals[:, i], label=labels[i])\n",
        "\n",
        "    ax1.set_xlabel('Time')\n",
        "    ax1.set_ylabel('Amplitude')\n",
        "    ax1.set_title('Accelerometer Before Interpolation')\n",
        "    ax1.legend()\n",
        "\n",
        "    # Plot the first three signals on one graph\n",
        "    for i in range(3):\n",
        "        ax2.plot(t1, sig[:, i], label=labels[i])\n",
        "\n",
        "    ax2.set_xlabel('Time')\n",
        "    ax2.set_ylabel('Amplitude')\n",
        "    ax2.set_title(f'Accelerometer After Interp. {typ}')\n",
        "    ax2.legend()\n",
        "\n",
        "    if title:\n",
        "        fig.suptitle(title)\n",
        "\n",
        "    plt.tight_layout()\n",
        "    plt.show()\n"
      ]
    },
    {
      "cell_type": "code",
      "execution_count": 5,
      "metadata": {
        "id": "AQDDhuvGuDhq"
      },
      "outputs": [],
      "source": [
        "def show_joint_3D(skeleton):\n",
        "    total_joint = 20\n",
        "\n",
        "    J = np.array([[1, 2, 3, 2, 5, 6, 7, 2, 9, 10, 11, 4, 13, 14, 15, 4, 17, 18, 19],\n",
        "                  [2, 3, 4, 5, 6, 7, 8, 9, 10, 11, 12, 13, 14, 15, 16, 17, 18, 19, 20]])\n",
        "\n",
        "    ss = []\n",
        "\n",
        "    num_frame = skeleton.shape[2]\n",
        "\n",
        "    for i in range(num_frame):\n",
        "        ss.append(skeleton[:, :, i])\n",
        "\n",
        "    ss = np.vstack(ss)\n",
        "\n",
        "    maxx = np.max(ss[:, 0])\n",
        "    minx = np.min(ss[:, 0])\n",
        "    maxy = np.max(ss[:, 1])\n",
        "    miny = np.min(ss[:, 1])\n",
        "    maxz = np.max(ss[:, 2])\n",
        "    minz = np.min(ss[:, 2])\n",
        "\n",
        "    for i in range(num_frame):\n",
        "        fig = plt.figure(figsize=(6, 10))\n",
        "        ax = fig.add_subplot(111, projection='3d')\n",
        "\n",
        "        joint = skeleton[:, :, i]\n",
        "        ax.scatter(joint[:, 0], joint[:, 2], joint[:, 1], c='r', marker='.', s=15)\n",
        "        ax.set_xlabel('X')\n",
        "        ax.set_ylabel('Z')\n",
        "        ax.set_zlabel('Y')\n",
        "\n",
        "        for j in range(total_joint):\n",
        "            tmp = joint[j, :]\n",
        "            ax.scatter(tmp[0], tmp[2], tmp[1], c='r', marker='.', s=15)\n",
        "\n",
        "        ax.set_box_aspect([1, 1, 1])\n",
        "\n",
        "        for j in range(J.shape[1]):\n",
        "            point1 = joint[J[0, j] - 1, :]\n",
        "            point2 = joint[J[1, j] - 1, :]\n",
        "            ax.plot([point1[0], point2[0]], [point1[2], point2[2]], [point1[1], point2[1]], linewidth=2)\n",
        "\n",
        "        ax.set_xlim(minx, maxx)\n",
        "        ax.set_ylim(minz, maxz)\n",
        "        ax.set_zlim(miny, maxy)\n",
        "        ax.grid()\n",
        "\n",
        "        plt.pause(1/20)\n",
        "        plt.close()\n"
      ]
    },
    {
      "cell_type": "markdown",
      "source": [
        "## Funções importante para interpolação de dados"
      ],
      "metadata": {
        "id": "_MmRoI4cj9pE"
      }
    },
    {
      "cell_type": "code",
      "execution_count": 6,
      "metadata": {
        "id": "ytld7qydwXg5"
      },
      "outputs": [],
      "source": [
        "import numpy as np\n",
        "from scipy.interpolate import interp1d\n",
        "\n",
        "# Interpolation function\n",
        "def interpolate_data(data, new_t, method='linear'):\n",
        "    t, points, axis = data.shape\n",
        "    interpolated_data = np.zeros((new_t, points, axis))\n",
        "\n",
        "    for i in range(axis):\n",
        "        for j in range(points):\n",
        "            x = np.linspace(0, t - 1, t)  # Original time points\n",
        "            y = data[:, j, i]\n",
        "\n",
        "            # Create an interpolation function with the specified method\n",
        "            interp_func = interp1d(x, y, kind=method, fill_value='extrapolate')\n",
        "\n",
        "            # Interpolate for the new time points\n",
        "            x_new = np.linspace(0, t - 1, new_t)  # New time points\n",
        "            interpolated_data[:, j, i] = interp_func(x_new)\n",
        "\n",
        "    return interpolated_data\n",
        "\n",
        "\n",
        "def interpolate_sensors(new_t, data, kind='linear'):\n",
        "    t = data.shape[0]\n",
        "    old_indices = np.arange(t)\n",
        "    new_indices = np.linspace(0, t - 1, new_t)\n",
        "\n",
        "\n",
        "    interpolated_data = np.zeros((new_t, data.shape[1]))\n",
        "    for col in range(data.shape[1]):\n",
        "        # Interpolate each column separately\n",
        "        interpolator = interp1d(old_indices, data[:, col], kind=kind)\n",
        "        interpolated_data[:, col] = interpolator(new_indices)\n",
        "\n",
        "    return interpolated_data"
      ]
    },
    {
      "cell_type": "markdown",
      "source": [
        "## Preprocessando os dados de esqueleto"
      ],
      "metadata": {
        "id": "THFGU7TkkI2Q"
      }
    },
    {
      "cell_type": "code",
      "execution_count": 7,
      "metadata": {
        "id": "OWiF7vb0w37k",
        "colab": {
          "base_uri": "https://localhost:8080/",
          "height": 110
        },
        "outputId": "f0bd868f-d625-40c6-da13-e8a4b0d114b2"
      },
      "outputs": [
        {
          "output_type": "execute_result",
          "data": {
            "text/plain": [
              "'skeleton_data = skl_data\\n\\nss = []\\n\\nnum_frame = skeleton_data.shape[2]\\n\\nfor i in range(num_frame):\\n    ss.append(skeleton_data[:, :, i])\\n\\nss = np.vstack(ss)\\n\\nmaxx = np.max(ss[:, 0])\\nminx = np.min(ss[:, 0])\\nmaxy = np.max(ss[:, 1])\\nminy = np.min(ss[:, 1])\\nmaxz = np.max(ss[:, 2])\\nminz = np.min(ss[:, 2])\\n\\n# Loop through frames and save each frame as an image\\ntotal_frames = skeleton_data.shape[2]\\nfor frame_index in range(total_frames):\\n    save_joint_frame(skeleton_data, frame_index)\\n\\n\\n#Saving a video from skeleton videos\\nimage_folder = \\'frames\\'\\nvideo_name = \\'video.avi\\'\\n\\nimages = [img for img in os.listdir(image_folder) if img.endswith(\".png\")]\\nprint(sorted(images))\\nframe = cv2.imread(os.path.join(image_folder, images[0]))\\nheight, width, layers = frame.shape\\n\\nvideo = cv2.VideoWriter(video_name, 0, 1, (width,height))\\n\\nfor image in images:\\n    video.write(cv2.imread(os.path.join(image_folder, image)))\\n\\ncv2.destroyAllWindows()\\nvideo.release()'"
            ],
            "application/vnd.google.colaboratory.intrinsic+json": {
              "type": "string"
            }
          },
          "metadata": {},
          "execution_count": 7
        }
      ],
      "source": [
        "import numpy as np\n",
        "import matplotlib.pyplot as plt\n",
        "from mpl_toolkits.mplot3d import Axes3D\n",
        "from PIL import Image\n",
        "import cv2\n",
        "import os\n",
        "\n",
        "# Create a directory to store frame images\n",
        "os.makedirs(\"frames\", exist_ok=True)\n",
        "\n",
        "def save_joint_frame(skeleton, frame_index):\n",
        "    total_joint = 20\n",
        "\n",
        "    J = np.array([[1, 2, 3, 2, 5, 6, 7, 2, 9, 10, 11, 4, 13, 14, 15, 4, 17, 18, 19],\n",
        "                  [2, 3, 4, 5, 6, 7, 8, 9, 10, 11, 12, 13, 14, 15, 16, 17, 18, 19, 20]])\n",
        "\n",
        "    fig = plt.figure(figsize=(6, 10))\n",
        "    ax = fig.add_subplot(111, projection='3d')\n",
        "\n",
        "    joint = skeleton[:, :, frame_index]\n",
        "    ax.scatter(joint[:, 0], joint[:, 2], joint[:, 1], c='r', marker='.', s=15)\n",
        "    ax.set_xlabel('X')\n",
        "    ax.set_ylabel('Z')\n",
        "    ax.set_zlabel('Y')\n",
        "\n",
        "    for j in range(total_joint):\n",
        "        tmp = joint[j, :]\n",
        "        ax.scatter(tmp[0], tmp[2], tmp[1], c='r', marker='.', s=15)\n",
        "\n",
        "    ax.set_box_aspect([1, 1, 1])\n",
        "\n",
        "    for j in range(J.shape[1]):\n",
        "        point1 = joint[J[0, j] - 1, :]\n",
        "        point2 = joint[J[1, j] - 1, :]\n",
        "        ax.plot([point1[0], point2[0]], [point1[2], point2[2]], [point1[1], point2[1]], linewidth=2)\n",
        "\n",
        "    ax.set_xlim(minx, maxx)\n",
        "    ax.set_ylim(minz, maxz)\n",
        "    ax.set_zlim(miny, maxy)\n",
        "    ax.grid()\n",
        "\n",
        "    # Save the frame as an image\n",
        "    plt.savefig(f\"frames/frame_{frame_index:04d}.png\")\n",
        "    plt.close()\n",
        "\n",
        "\n",
        "\"\"\"skeleton_data = skl_data\n",
        "\n",
        "ss = []\n",
        "\n",
        "num_frame = skeleton_data.shape[2]\n",
        "\n",
        "for i in range(num_frame):\n",
        "    ss.append(skeleton_data[:, :, i])\n",
        "\n",
        "ss = np.vstack(ss)\n",
        "\n",
        "maxx = np.max(ss[:, 0])\n",
        "minx = np.min(ss[:, 0])\n",
        "maxy = np.max(ss[:, 1])\n",
        "miny = np.min(ss[:, 1])\n",
        "maxz = np.max(ss[:, 2])\n",
        "minz = np.min(ss[:, 2])\n",
        "\n",
        "# Loop through frames and save each frame as an image\n",
        "total_frames = skeleton_data.shape[2]\n",
        "for frame_index in range(total_frames):\n",
        "    save_joint_frame(skeleton_data, frame_index)\n",
        "\n",
        "\n",
        "#Saving a video from skeleton videos\n",
        "image_folder = 'frames'\n",
        "video_name = 'video.avi'\n",
        "\n",
        "images = [img for img in os.listdir(image_folder) if img.endswith(\".png\")]\n",
        "print(sorted(images))\n",
        "frame = cv2.imread(os.path.join(image_folder, images[0]))\n",
        "height, width, layers = frame.shape\n",
        "\n",
        "video = cv2.VideoWriter(video_name, 0, 1, (width,height))\n",
        "\n",
        "for image in images:\n",
        "    video.write(cv2.imread(os.path.join(image_folder, image)))\n",
        "\n",
        "cv2.destroyAllWindows()\n",
        "video.release()\"\"\""
      ]
    },
    {
      "cell_type": "markdown",
      "source": [
        "## Preprocessando dataset e preparando para executar"
      ],
      "metadata": {
        "id": "xYtFv02GkQjs"
      }
    },
    {
      "cell_type": "code",
      "execution_count": 10,
      "metadata": {
        "id": "ty6P-CKd6SQT",
        "colab": {
          "base_uri": "https://localhost:8080/"
        },
        "outputId": "94f25277-6e68-4595-a174-8ce19cd96328"
      },
      "outputs": [
        {
          "output_type": "stream",
          "name": "stdout",
          "text": [
            "a5_s2_t3_skeleton (1).mat\n",
            "a18_s2_t1_skeleton (1).mat\n",
            "a4_s7_t2_skeleton (1).mat\n",
            "a5_s8_t1_skeleton (1).mat\n",
            "a1_s3_t2_skeleton (1).mat\n",
            "a9_s3_t1_skeleton (1).mat\n",
            "a19_s3_t2_skeleton (1).mat\n",
            "a22_s3_t3_skeleton (1).mat\n",
            "a1_s4_t3_skeleton (1).mat\n",
            "a5_s4_t3_skeleton (1).mat\n"
          ]
        }
      ],
      "source": [
        "debug = False\n",
        "plot = False\n",
        "interp = True\n",
        "# Define the new number of values, interpolation method, and desired output shape\n",
        "new_t = 150\n",
        "new_ts = 250\n",
        "interpolation_method = 'linear'  # Change to 'cubic', 'quadratic', etc. as needed\n",
        "\n",
        "def normalize_sensors(sensor):\n",
        "  return sensor\n",
        "\n",
        "def normalize_skeleton(sklt):\n",
        "  return sklt\n",
        "\n",
        "def prepare_dataset(dir_data):\n",
        "  sensors = os.path.join(dir_data, 'inertial')\n",
        "  sklts = os.path.join(dir_data, 'skeleton')\n",
        "\n",
        "  sensors = os.listdir(sensors)\n",
        "  sklts = os.listdir(sklts)\n",
        "\n",
        "  sensors = [s.replace('inertial.mat', '') for s in sensors]\n",
        "  sklts = [s.replace('skeleton.mat', '') for s in sklts]\n",
        "\n",
        "  list_dir = list(dict.fromkeys(sensors + sklts))\n",
        "\n",
        "  n_people = []\n",
        "  data_ssr, data_skl = {}, {}\n",
        "\n",
        "  for file_ in list_dir:\n",
        "    try:\n",
        "      inert = scipy.io.loadmat(os.path.join(dir_data, 'inertial',file_+'inertial.mat'))\n",
        "    except:\n",
        "      print(file_)\n",
        "      continue\n",
        "    signals = inert['d_iner']\n",
        "    if interp:\n",
        "      # Interpolate data to new_t using cubic interpolation\n",
        "      signals = interpolate_sensors(new_t, signals, kind='cubic')\n",
        "    signals = normalize_sensors(signals)\n",
        "    ind = file_.split('_')[1]\n",
        "    #signals = np.transpose(signals,(1,0))\n",
        "    #prints and plots\n",
        "    if debug:\n",
        "      print(signals.shape)\n",
        "      if plot:\n",
        "        # Plot the signals in the Jupyter Notebook\n",
        "        plot_signals(signals, title='Signals')\n",
        "\n",
        "    try:\n",
        "      sklet = scipy.io.loadmat(os.path.join(dir_data, 'skeleton',file_+'skeleton.mat'))\n",
        "    except:\n",
        "      print(file_)\n",
        "      continue\n",
        "    sklet = sklet['d_skel']\n",
        "    #(joints, axis, time)\n",
        "    skel_ = np.transpose(sklet,(2,0,1))\n",
        "    #(time, joints, axis)\n",
        "\n",
        "    if interp:\n",
        "      shp = skel_.shape\n",
        "      # Sample data with shape (t, points, axis)\n",
        "      t = shp[0]  # Number of time steps\n",
        "      points = shp[1] # Number of points\n",
        "      axis = shp[2]  # Number of axes\n",
        "\n",
        "      # Interpolate the data\n",
        "      skel_ = interpolate_data(skel_, new_ts, interpolation_method)\n",
        "      if debug:\n",
        "        # Print the original and interpolated data for illustration\n",
        "        print(\"Original Data Shape:\", shp)\n",
        "        print(\"Interpolated Data Shape:\", skel_.shape)\n",
        "    shp = skel_.shape\n",
        "    # Sample data with shape (t, points, axis)\n",
        "    t = shp[0]  # Number of time steps\n",
        "    #keep time ou keep space\n",
        "    #new_skel = skel_.reshape(t, -1)\n",
        "    new_skel = np.transpose(skel_,(0,1,2))\n",
        "    new_skel = normalize_skeleton(new_skel)\n",
        "\n",
        "    if ind in data_ssr:\n",
        "      data_ssr[ind].append(signals)\n",
        "      data_skl[ind].append(new_skel)\n",
        "    else:\n",
        "      data_ssr[ind] = [signals]\n",
        "      data_skl[ind] = [new_skel]\n",
        "    #prints and plots\n",
        "    if debug:\n",
        "      print(sklet.shape)\n",
        "      if plot:\n",
        "        show_joint_3D(new_skel)\n",
        "\n",
        "  #sensors_data, skeleton_data = np.array(sensors_data), np.array(skeleton_data)\n",
        "\n",
        "  if debug:\n",
        "    print('Shape data {}'.format(data_ssr.shape))\n",
        "\n",
        "  return data_skl, data_ssr\n",
        "\n",
        "\n",
        "data_skl, data_ssr = prepare_dataset(dir_data)"
      ]
    },
    {
      "cell_type": "markdown",
      "source": [
        "## Criando o modelo proposto"
      ],
      "metadata": {
        "id": "YZ_wQ44MkYYp"
      }
    },
    {
      "cell_type": "code",
      "source": [
        "input_shape = (224, 224, 3)\n",
        "learning_rate = 0.001\n",
        "weight_decay = 0.0001\n",
        "batch_size = 256\n",
        "num_epochs = 10  # For real training, use num_epochs=100. 10 is a test value\n",
        "image_size = 72  # We'll resize input images to this size\n",
        "patch_size = 6  # Size of the patches to be extract from the input images\n",
        "num_patches = (image_size // patch_size) ** 2\n",
        "projection_dim = 64\n",
        "num_heads = 4\n",
        "\n",
        "transformer_units = [\n",
        "    projection_dim * 2,\n",
        "    projection_dim,\n",
        "]  # Size of the transformer layers\n",
        "transformer_layers = 8\n",
        "mlp_head_units = [\n",
        "    32,\n",
        "    64,\n",
        "]  # Size of the dense layers of the final classifier\n",
        "\n",
        "\n",
        "def mlp(x, hidden_units, dropout_rate):\n",
        "    for units in hidden_units:\n",
        "        x = layers.Dense(units, activation=keras.activations.gelu)(x)\n",
        "        x = layers.Dropout(dropout_rate)(x)\n",
        "    return x\n",
        "\n",
        "def processing_input(x):\n",
        "    # Convolutional layers to process the input\n",
        "    x = layers.Conv2D(16, (3, 3), activation='relu')(x)\n",
        "    x = layers.Conv2D(32, (3, 3), activation='relu')(x)\n",
        "    x = layers.GlobalAveragePooling2D()(x)\n",
        "    x = layers.Dense(72 * 72 * 3, activation='sigmoid')(x)\n",
        "    output_layer = layers.Reshape((72, 72, 3))(x)\n",
        "    return output_layer\n",
        "\n",
        "class Patches(layers.Layer):\n",
        "    def __init__(self, patch_size):\n",
        "        super().__init__()\n",
        "        self.patch_size = patch_size\n",
        "\n",
        "    def call(self, images):\n",
        "        input_shape = ops.shape(images)\n",
        "        batch_size = input_shape[0]\n",
        "        height = input_shape[1]\n",
        "        width = input_shape[2]\n",
        "        channels = input_shape[3]\n",
        "        num_patches_h = height // self.patch_size\n",
        "        num_patches_w = width // self.patch_size\n",
        "        patches = keras.ops.image.extract_patches(images, size=self.patch_size)\n",
        "        patches = ops.reshape(\n",
        "            patches,\n",
        "            (\n",
        "                batch_size,\n",
        "                num_patches_h * num_patches_w,\n",
        "                self.patch_size * self.patch_size * channels,\n",
        "            ),\n",
        "        )\n",
        "        return patches\n",
        "\n",
        "    def get_config(self):\n",
        "        config = super().get_config()\n",
        "        config.update({\"patch_size\": self.patch_size})\n",
        "        return config\n",
        "\n",
        "\n",
        "class PatchEncoder(layers.Layer):\n",
        "    def __init__(self, num_patches, projection_dim):\n",
        "        super().__init__()\n",
        "        self.num_patches = num_patches\n",
        "        self.projection = layers.Dense(units=projection_dim)\n",
        "        self.position_embedding = layers.Embedding(\n",
        "            input_dim=num_patches, output_dim=projection_dim\n",
        "        )\n",
        "\n",
        "    def call(self, patch):\n",
        "        positions = ops.expand_dims(\n",
        "            ops.arange(start=0, stop=self.num_patches, step=1), axis=0\n",
        "        )\n",
        "        projected_patches = self.projection(patch)\n",
        "        encoded = projected_patches + self.position_embedding(positions)\n",
        "        return encoded\n",
        "\n",
        "    def get_config(self):\n",
        "        config = super().get_config()\n",
        "        config.update({\"num_patches\": self.num_patches})\n",
        "        return config\n",
        "\n",
        "def create_vit_classifier():\n",
        "    inputs = keras.Input(shape=(250, 20, 3))\n",
        "    # Augment data.\n",
        "    #augmented = data_augmentation(inputs)\n",
        "    out_conv = processing_input(inputs)\n",
        "    # Create patches.\n",
        "    patches = Patches(patch_size)(out_conv)\n",
        "    # Encode patches.\n",
        "    encoded_patches = PatchEncoder(num_patches, projection_dim)(patches)\n",
        "\n",
        "    # Create multiple layers of the Transformer block.\n",
        "    for _ in range(transformer_layers):\n",
        "        # Layer normalization 1.\n",
        "        x1 = layers.LayerNormalization(epsilon=1e-6)(encoded_patches)\n",
        "        # Create a multi-head attention layer.\n",
        "        attention_output = layers.MultiHeadAttention(\n",
        "            num_heads=num_heads, key_dim=projection_dim, dropout=0.1\n",
        "        )(x1, x1)\n",
        "        # Skip connection 1.\n",
        "        x2 = layers.Add()([attention_output, encoded_patches])\n",
        "        # Layer normalization 2.\n",
        "        x3 = layers.LayerNormalization(epsilon=1e-6)(x2)\n",
        "        # MLP.\n",
        "        x3 = mlp(x3, hidden_units=transformer_units, dropout_rate=0.1)\n",
        "        # Skip connection 2.\n",
        "        encoded_patches = layers.Add()([x3, x2])\n",
        "\n",
        "    # Create a [batch_size, projection_dim] tensor.\n",
        "    representation = layers.LayerNormalization(epsilon=1e-6)(encoded_patches)\n",
        "    representation = layers.Flatten()(representation)\n",
        "    representation = layers.Dropout(0.5)(representation)\n",
        "    # Add MLP.\n",
        "    features = mlp(representation, hidden_units=mlp_head_units, dropout_rate=0.5)\n",
        "    # out axi X\n",
        "    X = layers.Dense(150, activation='linear', name='X')(features)\n",
        "    # out axi Y\n",
        "    Y = layers.Dense(150, activation='linear', name='Y')(features)\n",
        "    # out axi Z\n",
        "    Z = layers.Dense(150, activation='linear', name='Z')(features)\n",
        "\n",
        "    # Create the Keras model.\n",
        "    model = keras.Model(inputs=inputs, outputs=[X,Y,Z])\n",
        "    return model\n",
        "\n",
        "\n",
        "\n",
        "def custom_dynamic_mse():\n",
        "    def loss(y_true, y_pred):\n",
        "        # Calculate the size of values in the second dimension for each sample\n",
        "        sizes = ops.sum(ops.sign(y_true), axis=1, keepdims=True)\n",
        "\n",
        "        # Create a mask to zero out irrelevant values in y_pred for each sample\n",
        "        mask = ops.sequence_mask(sizes[:, 0, 0], maxlen=254, dtype=ops.floatx())\n",
        "\n",
        "        # Calculate MSE only for the relevant values\n",
        "        squared_diff = ops.square(y_pred - y_true)\n",
        "        mse = ops.sum(squared_diff * mask) / ops.sum(mask + 1e-8)  # Avoid division by zero\n",
        "\n",
        "        return mse\n",
        "\n",
        "    return loss\n",
        "\n",
        "\n"
      ],
      "metadata": {
        "id": "SMBPWf-X-46q"
      },
      "execution_count": 11,
      "outputs": []
    },
    {
      "cell_type": "markdown",
      "source": [
        "## Treinando e avaliando o modelo"
      ],
      "metadata": {
        "id": "wFWX-weDkfih"
      }
    },
    {
      "cell_type": "code",
      "source": [
        "def plot_history(item):\n",
        "    plt.plot(history.history[item], label=item)\n",
        "    plt.plot(history.history[\"val_\" + item], label=\"val_\" + item)\n",
        "    plt.xlabel(\"Epochs\")\n",
        "    plt.ylabel(item)\n",
        "    plt.title(\"Train and Validation {} Over Epochs\".format(item), fontsize=14)\n",
        "    plt.legend()\n",
        "    plt.grid()\n",
        "    plt.show()\n",
        "\n",
        "def run_experiment(model, X_train, y_train, batch_, epoch_):\n",
        "    optimizer = keras.optimizers.AdamW(\n",
        "        learning_rate=learning_rate, weight_decay=weight_decay\n",
        "    )\n",
        "\n",
        "    model.compile(optimizer=optimizer,\n",
        "              loss={'X': 'mse', 'Y': 'mse', 'Z': 'mse'},\n",
        "              metrics={'X': 'mse', 'Y': 'mse', 'Z': 'mse'})\n",
        "\n",
        "    checkpoint_filepath = \"/content/drive/MyDrive/checkpoint.weights.h5\"\n",
        "    checkpoint_callback = keras.callbacks.ModelCheckpoint(\n",
        "        checkpoint_filepath,\n",
        "        monitor=\"val_mae\",\n",
        "        save_best_only=True,\n",
        "        save_weights_only=True,\n",
        "    )\n",
        "\n",
        "    history = model.fit(\n",
        "        x=np.array(X_train),\n",
        "        y=[y_train[:,:,0],y_train[:,:,1], y_train[:,:,2]],\n",
        "        batch_size=batch_,\n",
        "        epochs=epoch_,\n",
        "        validation_split=0.1,\n",
        "        callbacks=[checkpoint_callback],\n",
        "    )\n",
        "    #model.save(checkpoint_filepath)\n",
        "\n",
        "    return history, model"
      ],
      "metadata": {
        "id": "5qZVyo2C5GYg"
      },
      "execution_count": 12,
      "outputs": []
    },
    {
      "cell_type": "code",
      "source": [
        "from sklearn.datasets import make_regression\n",
        "# create dataset\n",
        "#X, y = make_regression(n_samples=1000, n_features=10, n_informative=5, n_targets=3, random_state=2)\n",
        "# summarize shape\n",
        "result = []\n",
        "for key in data_ssr.keys():\n",
        "    X_train, y_train, X_test, y_test = [], [], [], []\n",
        "    # Get the list associated with the key\n",
        "    current_list = data_ssr[key]\n",
        "    # Get the shape (length) of the list\n",
        "    list_shape = len(current_list)\n",
        "    # Print key and shape\n",
        "    print(f\"Key: {key}, Shape: {list_shape}\")\n",
        "    for v in data_ssr.keys():\n",
        "      if v == key or v == 's2':\n",
        "        if len(X_test) == 0:\n",
        "          X_test = np.array(data_skl[v])\n",
        "          y_test = np.array(data_ssr[v])\n",
        "        else:\n",
        "          X_test = np.concatenate([X_test,data_skl[v]])\n",
        "          y_test = np.concatenate([y_test,data_ssr[v]])\n",
        "      else:\n",
        "        if len(X_train) == 0:\n",
        "          X_train = data_skl[v]\n",
        "          y_train = data_ssr[v]\n",
        "        else:\n",
        "          X_train = np.concatenate([X_train,data_skl[v]])\n",
        "          y_train = np.concatenate([y_train,data_ssr[v]])\n",
        "    break"
      ],
      "metadata": {
        "colab": {
          "base_uri": "https://localhost:8080/"
        },
        "id": "2F0sDm2_Uayr",
        "outputId": "c2d63a7b-4d4b-442e-f486-c507edccb271"
      },
      "execution_count": 13,
      "outputs": [
        {
          "output_type": "stream",
          "name": "stdout",
          "text": [
            "Key: s1, Shape: 107\n"
          ]
        }
      ]
    },
    {
      "cell_type": "code",
      "source": [
        "def normalize_array(arr):\n",
        "    min_val = np.min(arr)\n",
        "    max_val = np.max(arr)\n",
        "    normalized_arr = (arr - min_val) / (max_val - min_val)\n",
        "    return normalized_arr\n",
        "\n",
        "\n",
        "\n",
        "X_train = normalize_array(X_train)\n",
        "y_train = normalize_array(y_train)\n",
        "\n",
        "X_test = normalize_array(X_test)\n",
        "y_test = normalize_array(y_test)\n"
      ],
      "metadata": {
        "id": "lQ3J9V77FJax"
      },
      "execution_count": 20,
      "outputs": []
    },
    {
      "cell_type": "code",
      "source": [
        "our_regressor = create_vit_classifier()\n",
        "history, our_regressor = run_experiment(our_regressor, X_train, y_train, batch_=64, epoch_=35)\n",
        "\n",
        "#model = keras.models.load_model(checkpoint_filepath)\n",
        "y_pred = our_regressor.predict(X_test)\n",
        "output = our_regressor.evaluate(X_test, [y_test[:,:,0],y_test[:,:,1],y_test[:,:,2]])\n",
        "print(f\"Error: {output}\")\n",
        "result.append(output)\n",
        "plot_history(\"loss\")"
      ],
      "metadata": {
        "colab": {
          "base_uri": "https://localhost:8080/",
          "height": 1000
        },
        "id": "jrcu1_csDeIg",
        "outputId": "911c6bd8-8d1d-4faf-e2c1-7b7dabe0c38b"
      },
      "execution_count": 21,
      "outputs": [
        {
          "output_type": "stream",
          "name": "stdout",
          "text": [
            "Epoch 1/35\n",
            "\u001b[1m10/10\u001b[0m \u001b[32m━━━━━━━━━━━━━━━━━━━━\u001b[0m\u001b[37m\u001b[0m \u001b[1m167s\u001b[0m 7s/step - X_mse: 0.7634 - Y_mse: 0.7889 - Z_mse: 0.7578 - loss: 2.2993 - val_X_mse: 0.2431 - val_Y_mse: 0.2433 - val_Z_mse: 0.2434 - val_loss: 0.7299\n",
            "Epoch 2/35\n"
          ]
        },
        {
          "output_type": "stream",
          "name": "stderr",
          "text": [
            "/usr/local/lib/python3.10/dist-packages/keras/src/callbacks/model_checkpoint.py:205: UserWarning: Can save best model only with val_mae available, skipping.\n",
            "  self._save_model(epoch=epoch, batch=None, logs=logs)\n"
          ]
        },
        {
          "output_type": "stream",
          "name": "stdout",
          "text": [
            "\u001b[1m10/10\u001b[0m \u001b[32m━━━━━━━━━━━━━━━━━━━━\u001b[0m\u001b[37m\u001b[0m \u001b[1m61s\u001b[0m 81ms/step - X_mse: 0.2409 - Y_mse: 0.2410 - Z_mse: 0.2410 - loss: 0.7226 - val_X_mse: 0.2335 - val_Y_mse: 0.2335 - val_Z_mse: 0.2334 - val_loss: 0.7004\n",
            "Epoch 3/35\n",
            "\u001b[1m10/10\u001b[0m \u001b[32m━━━━━━━━━━━━━━━━━━━━\u001b[0m\u001b[37m\u001b[0m \u001b[1m1s\u001b[0m 77ms/step - X_mse: 0.2312 - Y_mse: 0.2310 - Z_mse: 0.2310 - loss: 0.6930 - val_X_mse: 0.2238 - val_Y_mse: 0.2234 - val_Z_mse: 0.2232 - val_loss: 0.6704\n",
            "Epoch 4/35\n",
            "\u001b[1m10/10\u001b[0m \u001b[32m━━━━━━━━━━━━━━━━━━━━\u001b[0m\u001b[37m\u001b[0m \u001b[1m1s\u001b[0m 71ms/step - X_mse: 0.2215 - Y_mse: 0.2210 - Z_mse: 0.2207 - loss: 0.6629 - val_X_mse: 0.2139 - val_Y_mse: 0.2131 - val_Z_mse: 0.2128 - val_loss: 0.6397\n",
            "Epoch 5/35\n",
            "\u001b[1m10/10\u001b[0m \u001b[32m━━━━━━━━━━━━━━━━━━━━\u001b[0m\u001b[37m\u001b[0m \u001b[1m1s\u001b[0m 70ms/step - X_mse: 0.2115 - Y_mse: 0.2106 - Z_mse: 0.2102 - loss: 0.6321 - val_X_mse: 0.2034 - val_Y_mse: 0.2022 - val_Z_mse: 0.2017 - val_loss: 0.6074\n",
            "Epoch 6/35\n",
            "\u001b[1m10/10\u001b[0m \u001b[32m━━━━━━━━━━━━━━━━━━━━\u001b[0m\u001b[37m\u001b[0m \u001b[1m1s\u001b[0m 76ms/step - X_mse: 0.2009 - Y_mse: 0.1996 - Z_mse: 0.1991 - loss: 0.5993 - val_X_mse: 0.1919 - val_Y_mse: 0.1903 - val_Z_mse: 0.1896 - val_loss: 0.5719\n",
            "Epoch 7/35\n",
            "\u001b[1m10/10\u001b[0m \u001b[32m━━━━━━━━━━━━━━━━━━━━\u001b[0m\u001b[37m\u001b[0m \u001b[1m1s\u001b[0m 71ms/step - X_mse: 0.1892 - Y_mse: 0.1874 - Z_mse: 0.1867 - loss: 0.5630 - val_X_mse: 0.1789 - val_Y_mse: 0.1767 - val_Z_mse: 0.1760 - val_loss: 0.5316\n",
            "Epoch 8/35\n",
            "\u001b[1m10/10\u001b[0m \u001b[32m━━━━━━━━━━━━━━━━━━━━\u001b[0m\u001b[37m\u001b[0m \u001b[1m1s\u001b[0m 71ms/step - X_mse: 0.1755 - Y_mse: 0.1731 - Z_mse: 0.1724 - loss: 0.5208 - val_X_mse: 0.1637 - val_Y_mse: 0.1611 - val_Z_mse: 0.1602 - val_loss: 0.4851\n",
            "Epoch 9/35\n",
            "\u001b[1m10/10\u001b[0m \u001b[32m━━━━━━━━━━━━━━━━━━━━\u001b[0m\u001b[37m\u001b[0m \u001b[1m1s\u001b[0m 75ms/step - X_mse: 0.1602 - Y_mse: 0.1574 - Z_mse: 0.1566 - loss: 0.4737 - val_X_mse: 0.1462 - val_Y_mse: 0.1430 - val_Z_mse: 0.1422 - val_loss: 0.4313\n",
            "Epoch 10/35\n",
            "\u001b[1m10/10\u001b[0m \u001b[32m━━━━━━━━━━━━━━━━━━━━\u001b[0m\u001b[37m\u001b[0m \u001b[1m1s\u001b[0m 75ms/step - X_mse: 0.1425 - Y_mse: 0.1392 - Z_mse: 0.1385 - loss: 0.4197 - val_X_mse: 0.1261 - val_Y_mse: 0.1225 - val_Z_mse: 0.1217 - val_loss: 0.3703\n",
            "Epoch 11/35\n",
            "\u001b[1m10/10\u001b[0m \u001b[32m━━━━━━━━━━━━━━━━━━━━\u001b[0m\u001b[37m\u001b[0m \u001b[1m1s\u001b[0m 76ms/step - X_mse: 0.1221 - Y_mse: 0.1186 - Z_mse: 0.1178 - loss: 0.3580 - val_X_mse: 0.1040 - val_Y_mse: 0.1001 - val_Z_mse: 0.0995 - val_loss: 0.3036\n",
            "Epoch 12/35\n",
            "\u001b[1m10/10\u001b[0m \u001b[32m━━━━━━━━━━━━━━━━━━━━\u001b[0m\u001b[37m\u001b[0m \u001b[1m1s\u001b[0m 76ms/step - X_mse: 0.0997 - Y_mse: 0.0956 - Z_mse: 0.0951 - loss: 0.2897 - val_X_mse: 0.0811 - val_Y_mse: 0.0771 - val_Z_mse: 0.0766 - val_loss: 0.2348\n",
            "Epoch 13/35\n",
            "\u001b[1m10/10\u001b[0m \u001b[32m━━━━━━━━━━━━━━━━━━━━\u001b[0m\u001b[37m\u001b[0m \u001b[1m1s\u001b[0m 82ms/step - X_mse: 0.0779 - Y_mse: 0.0738 - Z_mse: 0.0734 - loss: 0.2249 - val_X_mse: 0.0592 - val_Y_mse: 0.0552 - val_Z_mse: 0.0548 - val_loss: 0.1693\n",
            "Epoch 14/35\n",
            "\u001b[1m10/10\u001b[0m \u001b[32m━━━━━━━━━━━━━━━━━━━━\u001b[0m\u001b[37m\u001b[0m \u001b[1m1s\u001b[0m 78ms/step - X_mse: 0.0575 - Y_mse: 0.0535 - Z_mse: 0.0533 - loss: 0.1636 - val_X_mse: 0.0401 - val_Y_mse: 0.0364 - val_Z_mse: 0.0362 - val_loss: 0.1127\n",
            "Epoch 15/35\n",
            "\u001b[1m10/10\u001b[0m \u001b[32m━━━━━━━━━━━━━━━━━━━━\u001b[0m\u001b[37m\u001b[0m \u001b[1m1s\u001b[0m 77ms/step - X_mse: 0.0409 - Y_mse: 0.0374 - Z_mse: 0.0372 - loss: 0.1151 - val_X_mse: 0.0253 - val_Y_mse: 0.0220 - val_Z_mse: 0.0219 - val_loss: 0.0691\n",
            "Epoch 16/35\n",
            "\u001b[1m10/10\u001b[0m \u001b[32m━━━━━━━━━━━━━━━━━━━━\u001b[0m\u001b[37m\u001b[0m \u001b[1m1s\u001b[0m 82ms/step - X_mse: 0.0281 - Y_mse: 0.0248 - Z_mse: 0.0250 - loss: 0.0780 - val_X_mse: 0.0149 - val_Y_mse: 0.0121 - val_Z_mse: 0.0122 - val_loss: 0.0392\n",
            "Epoch 17/35\n",
            "\u001b[1m10/10\u001b[0m \u001b[32m━━━━━━━━━━━━━━━━━━━━\u001b[0m\u001b[37m\u001b[0m \u001b[1m1s\u001b[0m 73ms/step - X_mse: 0.0192 - Y_mse: 0.0166 - Z_mse: 0.0168 - loss: 0.0526 - val_X_mse: 0.0086 - val_Y_mse: 0.0064 - val_Z_mse: 0.0065 - val_loss: 0.0216\n",
            "Epoch 18/35\n",
            "\u001b[1m10/10\u001b[0m \u001b[32m━━━━━━━━━━━━━━━━━━━━\u001b[0m\u001b[37m\u001b[0m \u001b[1m1s\u001b[0m 72ms/step - X_mse: 0.0144 - Y_mse: 0.0123 - Z_mse: 0.0126 - loss: 0.0392 - val_X_mse: 0.0050 - val_Y_mse: 0.0034 - val_Z_mse: 0.0035 - val_loss: 0.0119\n",
            "Epoch 19/35\n",
            "\u001b[1m10/10\u001b[0m \u001b[32m━━━━━━━━━━━━━━━━━━━━\u001b[0m\u001b[37m\u001b[0m \u001b[1m1s\u001b[0m 71ms/step - X_mse: 0.0125 - Y_mse: 0.0110 - Z_mse: 0.0112 - loss: 0.0344 - val_X_mse: 0.0030 - val_Y_mse: 0.0018 - val_Z_mse: 0.0020 - val_loss: 0.0068\n",
            "Epoch 20/35\n",
            "\u001b[1m10/10\u001b[0m \u001b[32m━━━━━━━━━━━━━━━━━━━━\u001b[0m\u001b[37m\u001b[0m \u001b[1m1s\u001b[0m 72ms/step - X_mse: 0.0106 - Y_mse: 0.0094 - Z_mse: 0.0098 - loss: 0.0301 - val_X_mse: 0.0019 - val_Y_mse: 0.0011 - val_Z_mse: 0.0012 - val_loss: 0.0042\n",
            "Epoch 21/35\n",
            "\u001b[1m10/10\u001b[0m \u001b[32m━━━━━━━━━━━━━━━━━━━━\u001b[0m\u001b[37m\u001b[0m \u001b[1m1s\u001b[0m 72ms/step - X_mse: 0.0096 - Y_mse: 0.0087 - Z_mse: 0.0089 - loss: 0.0274 - val_X_mse: 0.0013 - val_Y_mse: 7.2487e-04 - val_Z_mse: 7.5728e-04 - val_loss: 0.0028\n",
            "Epoch 22/35\n",
            "\u001b[1m10/10\u001b[0m \u001b[32m━━━━━━━━━━━━━━━━━━━━\u001b[0m\u001b[37m\u001b[0m \u001b[1m1s\u001b[0m 73ms/step - X_mse: 0.0091 - Y_mse: 0.0087 - Z_mse: 0.0088 - loss: 0.0266 - val_X_mse: 9.8963e-04 - val_Y_mse: 5.8066e-04 - val_Z_mse: 5.9253e-04 - val_loss: 0.0022\n",
            "Epoch 23/35\n",
            "\u001b[1m10/10\u001b[0m \u001b[32m━━━━━━━━━━━━━━━━━━━━\u001b[0m\u001b[37m\u001b[0m \u001b[1m1s\u001b[0m 75ms/step - X_mse: 0.0086 - Y_mse: 0.0082 - Z_mse: 0.0083 - loss: 0.0252 - val_X_mse: 8.2755e-04 - val_Y_mse: 5.2980e-04 - val_Z_mse: 5.3400e-04 - val_loss: 0.0019\n",
            "Epoch 24/35\n",
            "\u001b[1m10/10\u001b[0m \u001b[32m━━━━━━━━━━━━━━━━━━━━\u001b[0m\u001b[37m\u001b[0m \u001b[1m1s\u001b[0m 75ms/step - X_mse: 0.0087 - Y_mse: 0.0083 - Z_mse: 0.0085 - loss: 0.0254 - val_X_mse: 6.2631e-04 - val_Y_mse: 4.1363e-04 - val_Z_mse: 4.1529e-04 - val_loss: 0.0015\n",
            "Epoch 25/35\n",
            "\u001b[1m10/10\u001b[0m \u001b[32m━━━━━━━━━━━━━━━━━━━━\u001b[0m\u001b[37m\u001b[0m \u001b[1m1s\u001b[0m 71ms/step - X_mse: 0.0086 - Y_mse: 0.0083 - Z_mse: 0.0085 - loss: 0.0256 - val_X_mse: 5.5354e-04 - val_Y_mse: 3.9795e-04 - val_Z_mse: 4.0013e-04 - val_loss: 0.0014\n",
            "Epoch 26/35\n",
            "\u001b[1m10/10\u001b[0m \u001b[32m━━━━━━━━━━━━━━━━━━━━\u001b[0m\u001b[37m\u001b[0m \u001b[1m1s\u001b[0m 72ms/step - X_mse: 0.0082 - Y_mse: 0.0078 - Z_mse: 0.0080 - loss: 0.0238 - val_X_mse: 4.9537e-04 - val_Y_mse: 3.8728e-04 - val_Z_mse: 3.8552e-04 - val_loss: 0.0013\n",
            "Epoch 27/35\n",
            "\u001b[1m10/10\u001b[0m \u001b[32m━━━━━━━━━━━━━━━━━━━━\u001b[0m\u001b[37m\u001b[0m \u001b[1m1s\u001b[0m 79ms/step - X_mse: 0.0078 - Y_mse: 0.0076 - Z_mse: 0.0078 - loss: 0.0236 - val_X_mse: 4.1611e-04 - val_Y_mse: 3.4374e-04 - val_Z_mse: 3.3723e-04 - val_loss: 0.0011\n",
            "Epoch 28/35\n",
            "\u001b[1m10/10\u001b[0m \u001b[32m━━━━━━━━━━━━━━━━━━━━\u001b[0m\u001b[37m\u001b[0m \u001b[1m1s\u001b[0m 82ms/step - X_mse: 0.0081 - Y_mse: 0.0080 - Z_mse: 0.0080 - loss: 0.0241 - val_X_mse: 3.2798e-04 - val_Y_mse: 2.7921e-04 - val_Z_mse: 2.7280e-04 - val_loss: 8.8072e-04\n",
            "Epoch 29/35\n",
            "\u001b[1m10/10\u001b[0m \u001b[32m━━━━━━━━━━━━━━━━━━━━\u001b[0m\u001b[37m\u001b[0m \u001b[1m1s\u001b[0m 80ms/step - X_mse: 0.0071 - Y_mse: 0.0070 - Z_mse: 0.0072 - loss: 0.0213 - val_X_mse: 3.5874e-04 - val_Y_mse: 3.2324e-04 - val_Z_mse: 3.1498e-04 - val_loss: 9.9779e-04\n",
            "Epoch 30/35\n",
            "\u001b[1m10/10\u001b[0m \u001b[32m━━━━━━━━━━━━━━━━━━━━\u001b[0m\u001b[37m\u001b[0m \u001b[1m1s\u001b[0m 85ms/step - X_mse: 0.0077 - Y_mse: 0.0075 - Z_mse: 0.0076 - loss: 0.0226 - val_X_mse: 3.4448e-04 - val_Y_mse: 3.1545e-04 - val_Z_mse: 3.1056e-04 - val_loss: 9.7136e-04\n",
            "Epoch 31/35\n",
            "\u001b[1m10/10\u001b[0m \u001b[32m━━━━━━━━━━━━━━━━━━━━\u001b[0m\u001b[37m\u001b[0m \u001b[1m1s\u001b[0m 82ms/step - X_mse: 0.0073 - Y_mse: 0.0071 - Z_mse: 0.0073 - loss: 0.0217 - val_X_mse: 3.2968e-04 - val_Y_mse: 3.0422e-04 - val_Z_mse: 3.0335e-04 - val_loss: 9.3812e-04\n",
            "Epoch 32/35\n",
            "\u001b[1m10/10\u001b[0m \u001b[32m━━━━━━━━━━━━━━━━━━━━\u001b[0m\u001b[37m\u001b[0m \u001b[1m1s\u001b[0m 73ms/step - X_mse: 0.0073 - Y_mse: 0.0071 - Z_mse: 0.0073 - loss: 0.0216 - val_X_mse: 2.9308e-04 - val_Y_mse: 2.7432e-04 - val_Z_mse: 2.7602e-04 - val_loss: 8.4428e-04\n",
            "Epoch 33/35\n",
            "\u001b[1m10/10\u001b[0m \u001b[32m━━━━━━━━━━━━━━━━━━━━\u001b[0m\u001b[37m\u001b[0m \u001b[1m1s\u001b[0m 73ms/step - X_mse: 0.0074 - Y_mse: 0.0073 - Z_mse: 0.0075 - loss: 0.0222 - val_X_mse: 2.5310e-04 - val_Y_mse: 2.4048e-04 - val_Z_mse: 2.4289e-04 - val_loss: 7.3726e-04\n",
            "Epoch 34/35\n",
            "\u001b[1m10/10\u001b[0m \u001b[32m━━━━━━━━━━━━━━━━━━━━\u001b[0m\u001b[37m\u001b[0m \u001b[1m1s\u001b[0m 72ms/step - X_mse: 0.0071 - Y_mse: 0.0070 - Z_mse: 0.0072 - loss: 0.0214 - val_X_mse: 2.2070e-04 - val_Y_mse: 2.1066e-04 - val_Z_mse: 2.1572e-04 - val_loss: 6.4780e-04\n",
            "Epoch 35/35\n",
            "\u001b[1m10/10\u001b[0m \u001b[32m━━━━━━━━━━━━━━━━━━━━\u001b[0m\u001b[37m\u001b[0m \u001b[1m1s\u001b[0m 74ms/step - X_mse: 0.0071 - Y_mse: 0.0070 - Z_mse: 0.0072 - loss: 0.0213 - val_X_mse: 2.2401e-04 - val_Y_mse: 2.1513e-04 - val_Z_mse: 2.2055e-04 - val_loss: 6.6042e-04\n",
            "\u001b[1m7/7\u001b[0m \u001b[32m━━━━━━━━━━━━━━━━━━━━\u001b[0m\u001b[37m\u001b[0m \u001b[1m6s\u001b[0m 504ms/step\n",
            "\u001b[1m7/7\u001b[0m \u001b[32m━━━━━━━━━━━━━━━━━━━━\u001b[0m\u001b[37m\u001b[0m \u001b[1m4s\u001b[0m 317ms/step - X_mse: 0.0027 - Y_mse: 0.0026 - Z_mse: 0.0027 - loss: 0.0080\n",
            "Error: [0.007973632775247097, 0.0026707055512815714, 0.002639909042045474, 0.0026625480968505144]\n"
          ]
        },
        {
          "output_type": "display_data",
          "data": {
            "text/plain": [
              "<Figure size 640x480 with 1 Axes>"
            ],
            "image/png": "[encoded data removed]"
          },
          "metadata": {}
        }
      ]
    },
    {
      "cell_type": "code",
      "source": [
        "#training in colab without disconnected\n",
        "#while True:pass"
      ],
      "metadata": {
        "id": "SYXMKgaJikZM"
      },
      "execution_count": 11,
      "outputs": []
    },
    {
      "cell_type": "code",
      "source": [
        "from sklearn.metrics import mean_squared_error, mean_absolute_error, r2_score, explained_variance_score, mean_squared_log_error\n",
        "import numpy as np\n",
        "\n",
        "\n",
        "# Mean Squared Error (MSE)\n",
        "msex = mean_squared_error(y_test[:,:,0], y_pred[0])\n",
        "msey = mean_squared_error(y_test[:,:,1], y_pred[1])\n",
        "msez = mean_squared_error(y_test[:,:,2], y_pred[2])\n",
        "print(f\"Mean Squared Error X(MSE): {msex}\")\n",
        "print(f\"Mean Squared Error Y(MSE): {msey}\")\n",
        "print(f\"Mean Squared Error Z(MSE): {msez}\")\n",
        "print(f\"Mean Squared Error Media(MSE): {(msex+msey+msez)/3}\")\n",
        "\n",
        "# Mean Absolute Error (MAE)\n",
        "maex = mean_absolute_error(y_test[:,:,0], y_pred[0])\n",
        "maey = mean_absolute_error(y_test[:,:,1], y_pred[1])\n",
        "maez = mean_absolute_error(y_test[:,:,2], y_pred[2])\n",
        "print(f\"MAE X(MAE): {maex}\")\n",
        "print(f\"MAE Y(MAE): {maey}\")\n",
        "print(f\"MAE Z(MAE): {maez}\")\n",
        "print(f\"MAE Media(MAE): {(maex+maex+maex)/3}\")\n",
        "\n",
        "# R-squared (R2) Score\n",
        "r2x = r2_score(y_test[:,:,0], y_pred[0])\n",
        "r2y = r2_score(y_test[:,:,1], y_pred[1])\n",
        "r2z = r2_score(y_test[:,:,2], y_pred[2])\n",
        "\n",
        "print(f\"R-squared (R2) Score mean: {r2x}\")\n",
        "print(f\"R-squared (R2) Score mean: {r2y}\")\n",
        "print(f\"R-squared (R2) Score mean: {r2z}\")\n",
        "print(f\"R-squared (R2) Score mean: {(r2x+r2x+r2x)/3}\")\n",
        "\n",
        "# Explained Variance Score\n",
        "explained_variancex = explained_variance_score(y_test[:,:,0], y_pred[0])\n",
        "explained_variancey = explained_variance_score(y_test[:,:,1], y_pred[1])\n",
        "explained_variancez = explained_variance_score(y_test[:,:,2], y_pred[2])\n",
        "\n",
        "print(f\"Explained Variance Score X: {explained_variancex}\")\n",
        "print(f\"Explained Variance Score Y: {explained_variancey}\")\n",
        "print(f\"Explained Variance Score Z: {explained_variancez}\")\n",
        "print(f\"Explained Variance Score Media: {explained_variancex+explained_variancey+explained_variancez/3}\")\n",
        "\n",
        "# Mean Squared Logarithmic Error (MSLE)\n",
        "'''mslex = mean_squared_log_error(y_test[:,:,0], y_pred[0])\n",
        "msley = mean_squared_log_error(y_test[:,:,1], y_pred[1])\n",
        "mslez = mean_squared_log_error(y_test[:,:,2], y_pred[2])\n",
        "\n",
        "print(f\"Mean Squared Logarithmic Error (MSLE) X: {mslex}\")\n",
        "print(f\"Mean Squared Logarithmic Error (MSLE) Y: {msley}\")\n",
        "print(f\"Mean Squared Logarithmic Error (MSLE) Z: {mslez}\")\n",
        "print(f\"Mean Squared Logarithmic Error (MSLE) Mean: {(mslex+msley+mslez)/3}\")'''\n",
        "\n",
        "# Normalized versions (only for some metrics)\n",
        "# Normalized versions are available for MSE, MAE, and explained variance\n",
        "normalized_msex = mean_squared_error(y_test[:,:,0], y_pred[0], squared=False)\n",
        "normalized_msey = mean_squared_error(y_test[:,:,1], y_pred[1], squared=False)\n",
        "normalized_msez = mean_squared_error(y_test[:,:,2], y_pred[2], squared=False)\n",
        "\n",
        "\n",
        "normalized_maex = mean_absolute_error(y_test[:,:,0], y_pred[0])\n",
        "normalized_maey = mean_absolute_error(y_test[:,:,1], y_pred[1])\n",
        "normalized_maez = mean_absolute_error(y_test[:,:,2], y_pred[2])\n",
        "\n",
        "\n",
        "normalized_explained_variancex = explained_variance_score(y_test[:,:,0], y_pred[0])\n",
        "normalized_explained_variancey = explained_variance_score(y_test[:,:,1], y_pred[1])\n",
        "normalized_explained_variancez = explained_variance_score(y_test[:,:,2], y_pred[2])\n",
        "\n",
        "print(f\"Normalized Mean Squared Error X: {normalized_msex}\")\n",
        "print(f\"Normalized Mean Squared Error Y: {normalized_msey}\")\n",
        "print(f\"Normalized Mean Squared Error Z: {normalized_msez}\")\n",
        "print(f\"Normalized Mean Squared Error media: {(normalized_msex+normalized_msey+normalized_msez)/3}\")\n",
        "\n",
        "print(f\"Normalized Mean Absolute Error X: {normalized_maex}\")\n",
        "print(f\"Normalized Mean Absolute Error Y: {normalized_maey}\")\n",
        "print(f\"Normalized Mean Absolute Error Z: {normalized_maez}\")\n",
        "print(f\"Normalized Mean Absolute Error Mean: {(normalized_maex+normalized_maey+normalized_maez)/3}\")\n",
        "\n",
        "\n",
        "print(f\"Normalized Explained Variance Score X: {normalized_explained_variancex}\")\n",
        "print(f\"Normalized Explained Variance Score Y: {normalized_explained_variancey}\")\n",
        "print(f\"Normalized Explained Variance Score Z: {normalized_explained_variancez}\")\n",
        "print(f\"Normalized Explained Variance Score Media: {(normalized_explained_variancex+normalized_explained_variancey+normalized_explained_variancez)/3}\")\n",
        "\n"
      ],
      "metadata": {
        "id": "RW6gYc4F6lq1",
        "colab": {
          "base_uri": "https://localhost:8080/"
        },
        "outputId": "2acd77ad-3648-4b61-9094-341cd8fd76ad"
      },
      "execution_count": 23,
      "outputs": [
        {
          "output_type": "stream",
          "name": "stdout",
          "text": [
            "Mean Squared Error X(MSE): 0.0026707052732435677\n",
            "Mean Squared Error Y(MSE): 0.0026399088529909746\n",
            "Mean Squared Error Z(MSE): 0.002662548048223648\n",
            "Mean Squared Error Media(MSE): 0.0026577207248193965\n",
            "MAE X(MAE): 0.051555593831207086\n",
            "MAE Y(MAE): 0.051280275335222156\n",
            "MAE Z(MAE): 0.05150343796197778\n",
            "MAE Media(MAE): 0.051555593831207086\n",
            "R-squared (R2) Score mean: -143853.70908594638\n",
            "R-squared (R2) Score mean: -70707.98068777211\n",
            "R-squared (R2) Score mean: -58722.02228820591\n",
            "R-squared (R2) Score mean: -143853.70908594638\n",
            "Explained Variance Score X: 2.2070096229898085e-07\n",
            "Explained Variance Score Y: 4.609384085751955e-08\n",
            "Explained Variance Score Z: -3.203062772231628e-07\n",
            "Explained Variance Score Media: 1.6002604408211278e-07\n",
            "Normalized Mean Squared Error X: 0.051556811377103336\n",
            "Normalized Mean Squared Error Y: 0.05128096939943436\n",
            "Normalized Mean Squared Error Z: 0.05150428546111183\n",
            "Normalized Mean Squared Error media: 0.05144735541254985\n",
            "Normalized Mean Absolute Error X: 0.051555593831207086\n",
            "Normalized Mean Absolute Error Y: 0.051280275335222156\n",
            "Normalized Mean Absolute Error Z: 0.05150343796197778\n",
            "Normalized Mean Absolute Error Mean: 0.051446435709469\n",
            "Normalized Explained Variance Score X: 2.2070096229898085e-07\n",
            "Normalized Explained Variance Score Y: 4.609384085751955e-08\n",
            "Normalized Explained Variance Score Z: -3.203062772231628e-07\n",
            "Normalized Explained Variance Score Media: -1.78371580222208e-08\n"
          ]
        }
      ]
    },
    {
      "cell_type": "code",
      "source": [],
      "metadata": {
        "colab": {
          "base_uri": "https://localhost:8080/",
          "height": 182
        },
        "id": "FODPr96SYqX-",
        "outputId": "8b3ee90d-5f51-467d-d3ad-42857e7af280"
      },
      "execution_count": 21,
      "outputs": [
        {
          "output_type": "error",
          "ename": "NameError",
          "evalue": "ignored",
          "traceback": [
            "\u001b[0;31m---------------------------------------------------------------------------\u001b[0m",
            "\u001b[0;31mNameError\u001b[0m                                 Traceback (most recent call last)",
            "\u001b[0;32m<ipython-input-21-df9b8904e2bc>\u001b[0m in \u001b[0;36m<cell line: 1>\u001b[0;34m()\u001b[0m\n\u001b[0;32m----> 1\u001b[0;31m \u001b[0mplot_signals\u001b[0m\u001b[0;34m(\u001b[0m\u001b[0msignals\u001b[0m\u001b[0;34m)\u001b[0m\u001b[0;34m\u001b[0m\u001b[0;34m\u001b[0m\u001b[0m\n\u001b[0m",
            "\u001b[0;31mNameError\u001b[0m: name 'signals' is not defined"
          ]
        }
      ]
    },
    {
      "cell_type": "code",
      "source": [],
      "metadata": {
        "id": "gk1yjmBkZaqZ"
      },
      "execution_count": null,
      "outputs": []
    }
  ],
  "metadata": {
    "colab": {
      "provenance": [],
      "gpuType": "T4"
    },
    "kernelspec": {
      "display_name": "Python 3",
      "name": "python3"
    },
    "language_info": {
      "name": "python"
    },
    "accelerator": "GPU"
  },
  "nbformat": 4,
  "nbformat_minor": 0
}