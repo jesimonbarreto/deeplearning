{
  "cells": [
    {
      "cell_type": "code",
      "source": [
        "from google.colab import drive\n",
        "\n",
        "# Mount Google Drive to /content/drive\n",
        "drive.mount('/content/drive')\n",
        "\n",
        "dir_data = '/content/drive/MyDrive/datasets/'"
      ],
      "metadata": {
        "colab": {
          "base_uri": "https://localhost:8080/"
        },
        "id": "LMUkevpHbiXL",
        "outputId": "eb53726b-7617-4f6a-dd2d-286bd5e3a318"
      },
      "execution_count": 6,
      "outputs": [
        {
          "output_type": "stream",
          "name": "stdout",
          "text": [
            "Drive already mounted at /content/drive; to attempt to forcibly remount, call drive.mount(\"/content/drive\", force_remount=True).\n"
          ]
        }
      ]
    },
    {
      "cell_type": "code",
      "source": [
        "!pip install keras==3.0.0"
      ],
      "metadata": {
        "colab": {
          "base_uri": "https://localhost:8080/"
        },
        "id": "SCryo-th_5MD",
        "outputId": "376a3754-271b-43ee-f53e-bdf3158e5c01"
      },
      "execution_count": 3,
      "outputs": [
        {
          "output_type": "stream",
          "name": "stdout",
          "text": [
            "Requirement already satisfied: keras==3.0.0 in /usr/local/lib/python3.10/dist-packages (3.0.0)\n",
            "Requirement already satisfied: absl-py in /usr/local/lib/python3.10/dist-packages (from keras==3.0.0) (1.4.0)\n",
            "Requirement already satisfied: numpy in /usr/local/lib/python3.10/dist-packages (from keras==3.0.0) (1.23.5)\n",
            "Requirement already satisfied: rich in /usr/local/lib/python3.10/dist-packages (from keras==3.0.0) (13.7.0)\n",
            "Requirement already satisfied: namex in /usr/local/lib/python3.10/dist-packages (from keras==3.0.0) (0.0.7)\n",
            "Requirement already satisfied: h5py in /usr/local/lib/python3.10/dist-packages (from keras==3.0.0) (3.9.0)\n",
            "Requirement already satisfied: dm-tree in /usr/local/lib/python3.10/dist-packages (from keras==3.0.0) (0.1.8)\n",
            "Requirement already satisfied: markdown-it-py>=2.2.0 in /usr/local/lib/python3.10/dist-packages (from rich->keras==3.0.0) (3.0.0)\n",
            "Requirement already satisfied: pygments<3.0.0,>=2.13.0 in /usr/local/lib/python3.10/dist-packages (from rich->keras==3.0.0) (2.16.1)\n",
            "Requirement already satisfied: mdurl~=0.1 in /usr/local/lib/python3.10/dist-packages (from markdown-it-py>=2.2.0->rich->keras==3.0.0) (0.1.2)\n"
          ]
        }
      ]
    },
    {
      "cell_type": "markdown",
      "source": [
        "## Importando os pacotes"
      ],
      "metadata": {
        "id": "Y76ddnTyjupn"
      }
    },
    {
      "cell_type": "code",
      "execution_count": 7,
      "metadata": {
        "id": "LxOicbbEnZcI"
      },
      "outputs": [],
      "source": [
        "import os, glob\n",
        "import scipy.io\n",
        "import matplotlib.pyplot as plt\n",
        "import numpy as np\n",
        "from mpl_toolkits.mplot3d import Axes3D\n",
        "# Ensure plots are displayed in the Jupyter Notebook\n",
        "%matplotlib inline\n",
        "\n",
        "\n",
        "os.environ[\"KERAS_BACKEND\"] = \"tensorflow\"  # @param [\"tensorflow\", \"jax\", \"torch\"]\n",
        "\n",
        "import keras\n",
        "from keras import layers\n",
        "from keras import ops\n",
        "import tensorflow as tf"
      ]
    },
    {
      "cell_type": "markdown",
      "source": [
        "## Funções importantes para utilização dos dados e plots"
      ],
      "metadata": {
        "id": "gvPqCupGj1QE"
      }
    },
    {
      "cell_type": "code",
      "execution_count": 8,
      "metadata": {
        "id": "-gFKIXIsu5WW"
      },
      "outputs": [],
      "source": [
        "def plot_signals(signals, title=None):\n",
        "    t = np.arange(signals.shape[0])  # Time steps\n",
        "\n",
        "    fig, (ax1, ax2) = plt.subplots(1, 2, figsize=(15, 6))\n",
        "\n",
        "    labels = ['Ax', 'Ay', 'Az', 'Gx', 'Gy', 'Gz']\n",
        "\n",
        "    # Plot the first three signals on one graph\n",
        "    for i in range(3):\n",
        "        ax1.plot(t, signals[:, i], label=labels[i])\n",
        "\n",
        "    ax1.set_xlabel('Time')\n",
        "    ax1.set_ylabel('Amplitude')\n",
        "    ax1.set_title('Accelerometer')\n",
        "    ax1.legend()\n",
        "\n",
        "    # Plot the last three signals on the other graph\n",
        "    for i in range(3, 6):\n",
        "        ax2.plot(t, signals[:, i], label=labels[i])\n",
        "\n",
        "    ax2.set_xlabel('Time')\n",
        "    ax2.set_ylabel('Amplitude')\n",
        "    ax2.set_title('Gyroscopy')\n",
        "    ax2.legend()\n",
        "\n",
        "    if title:\n",
        "        fig.suptitle(title)\n",
        "\n",
        "    plt.tight_layout()\n",
        "    plt.show()\n"
      ]
    },
    {
      "cell_type": "code",
      "execution_count": 9,
      "metadata": {
        "id": "AQDDhuvGuDhq"
      },
      "outputs": [],
      "source": [
        "def show_joint_3D(skeleton):\n",
        "    total_joint = 20\n",
        "\n",
        "    J = np.array([[1, 2, 3, 2, 5, 6, 7, 2, 9, 10, 11, 4, 13, 14, 15, 4, 17, 18, 19],\n",
        "                  [2, 3, 4, 5, 6, 7, 8, 9, 10, 11, 12, 13, 14, 15, 16, 17, 18, 19, 20]])\n",
        "\n",
        "    ss = []\n",
        "\n",
        "    num_frame = skeleton.shape[2]\n",
        "\n",
        "    for i in range(num_frame):\n",
        "        ss.append(skeleton[:, :, i])\n",
        "\n",
        "    ss = np.vstack(ss)\n",
        "\n",
        "    maxx = np.max(ss[:, 0])\n",
        "    minx = np.min(ss[:, 0])\n",
        "    maxy = np.max(ss[:, 1])\n",
        "    miny = np.min(ss[:, 1])\n",
        "    maxz = np.max(ss[:, 2])\n",
        "    minz = np.min(ss[:, 2])\n",
        "\n",
        "    for i in range(num_frame):\n",
        "        fig = plt.figure(figsize=(6, 10))\n",
        "        ax = fig.add_subplot(111, projection='3d')\n",
        "\n",
        "        joint = skeleton[:, :, i]\n",
        "        ax.scatter(joint[:, 0], joint[:, 2], joint[:, 1], c='r', marker='.', s=15)\n",
        "        ax.set_xlabel('X')\n",
        "        ax.set_ylabel('Z')\n",
        "        ax.set_zlabel('Y')\n",
        "\n",
        "        for j in range(total_joint):\n",
        "            tmp = joint[j, :]\n",
        "            ax.scatter(tmp[0], tmp[2], tmp[1], c='r', marker='.', s=15)\n",
        "\n",
        "        ax.set_box_aspect([1, 1, 1])\n",
        "\n",
        "        for j in range(J.shape[1]):\n",
        "            point1 = joint[J[0, j] - 1, :]\n",
        "            point2 = joint[J[1, j] - 1, :]\n",
        "            ax.plot([point1[0], point2[0]], [point1[2], point2[2]], [point1[1], point2[1]], linewidth=2)\n",
        "\n",
        "        ax.set_xlim(minx, maxx)\n",
        "        ax.set_ylim(minz, maxz)\n",
        "        ax.set_zlim(miny, maxy)\n",
        "        ax.grid()\n",
        "\n",
        "        plt.pause(1/20)\n",
        "        plt.close()\n"
      ]
    },
    {
      "cell_type": "markdown",
      "source": [
        "## Funções importante para interpolação de dados"
      ],
      "metadata": {
        "id": "_MmRoI4cj9pE"
      }
    },
    {
      "cell_type": "code",
      "execution_count": 10,
      "metadata": {
        "id": "ytld7qydwXg5"
      },
      "outputs": [],
      "source": [
        "import numpy as np\n",
        "from scipy.interpolate import interp1d\n",
        "\n",
        "# Interpolation function\n",
        "def interpolate_data(data, new_t, method='linear'):\n",
        "    t, points, axis = data.shape\n",
        "    interpolated_data = np.zeros((new_t, points, axis))\n",
        "\n",
        "    for i in range(axis):\n",
        "        for j in range(points):\n",
        "            x = np.linspace(0, t - 1, t)  # Original time points\n",
        "            y = data[:, j, i]\n",
        "\n",
        "            # Create an interpolation function with the specified method\n",
        "            interp_func = interp1d(x, y, kind=method, fill_value='extrapolate')\n",
        "\n",
        "            # Interpolate for the new time points\n",
        "            x_new = np.linspace(0, t - 1, new_t)  # New time points\n",
        "            interpolated_data[:, j, i] = interp_func(x_new)\n",
        "\n",
        "    return interpolated_data\n",
        "\n",
        "\n",
        "def interpolate_sensors(new_t, data, kind='linear'):\n",
        "    t = data.shape[0]\n",
        "    old_indices = np.arange(t)\n",
        "    new_indices = np.linspace(0, t - 1, new_t)\n",
        "\n",
        "\n",
        "    interpolated_data = np.zeros((new_t, data.shape[1]))\n",
        "    for col in range(data.shape[1]):\n",
        "        # Interpolate each column separately\n",
        "        interpolator = interp1d(old_indices, data[:, col], kind=kind)\n",
        "        interpolated_data[:, col] = interpolator(new_indices)\n",
        "\n",
        "    return interpolated_data"
      ]
    },
    {
      "cell_type": "markdown",
      "source": [
        "## Preprocessando os dados de esqueleto"
      ],
      "metadata": {
        "id": "THFGU7TkkI2Q"
      }
    },
    {
      "cell_type": "code",
      "execution_count": 11,
      "metadata": {
        "id": "OWiF7vb0w37k",
        "colab": {
          "base_uri": "https://localhost:8080/",
          "height": 110
        },
        "outputId": "fb11fde8-e1da-4868-87b2-ddf448c31f1f"
      },
      "outputs": [
        {
          "output_type": "execute_result",
          "data": {
            "text/plain": [
              "'skeleton_data = skl_data\\n\\nss = []\\n\\nnum_frame = skeleton_data.shape[2]\\n\\nfor i in range(num_frame):\\n    ss.append(skeleton_data[:, :, i])\\n\\nss = np.vstack(ss)\\n\\nmaxx = np.max(ss[:, 0])\\nminx = np.min(ss[:, 0])\\nmaxy = np.max(ss[:, 1])\\nminy = np.min(ss[:, 1])\\nmaxz = np.max(ss[:, 2])\\nminz = np.min(ss[:, 2])\\n\\n# Loop through frames and save each frame as an image\\ntotal_frames = skeleton_data.shape[2]\\nfor frame_index in range(total_frames):\\n    save_joint_frame(skeleton_data, frame_index)\\n\\n\\n#Saving a video from skeleton videos\\nimage_folder = \\'frames\\'\\nvideo_name = \\'video.avi\\'\\n\\nimages = [img for img in os.listdir(image_folder) if img.endswith(\".png\")]\\nprint(sorted(images))\\nframe = cv2.imread(os.path.join(image_folder, images[0]))\\nheight, width, layers = frame.shape\\n\\nvideo = cv2.VideoWriter(video_name, 0, 1, (width,height))\\n\\nfor image in images:\\n    video.write(cv2.imread(os.path.join(image_folder, image)))\\n\\ncv2.destroyAllWindows()\\nvideo.release()'"
            ],
            "application/vnd.google.colaboratory.intrinsic+json": {
              "type": "string"
            }
          },
          "metadata": {},
          "execution_count": 11
        }
      ],
      "source": [
        "import numpy as np\n",
        "import matplotlib.pyplot as plt\n",
        "from mpl_toolkits.mplot3d import Axes3D\n",
        "from PIL import Image\n",
        "import cv2\n",
        "import os\n",
        "\n",
        "# Create a directory to store frame images\n",
        "os.makedirs(\"frames\", exist_ok=True)\n",
        "\n",
        "def save_joint_frame(skeleton, frame_index):\n",
        "    total_joint = 20\n",
        "\n",
        "    J = np.array([[1, 2, 3, 2, 5, 6, 7, 2, 9, 10, 11, 4, 13, 14, 15, 4, 17, 18, 19],\n",
        "                  [2, 3, 4, 5, 6, 7, 8, 9, 10, 11, 12, 13, 14, 15, 16, 17, 18, 19, 20]])\n",
        "\n",
        "    fig = plt.figure(figsize=(6, 10))\n",
        "    ax = fig.add_subplot(111, projection='3d')\n",
        "\n",
        "    joint = skeleton[:, :, frame_index]\n",
        "    ax.scatter(joint[:, 0], joint[:, 2], joint[:, 1], c='r', marker='.', s=15)\n",
        "    ax.set_xlabel('X')\n",
        "    ax.set_ylabel('Z')\n",
        "    ax.set_zlabel('Y')\n",
        "\n",
        "    for j in range(total_joint):\n",
        "        tmp = joint[j, :]\n",
        "        ax.scatter(tmp[0], tmp[2], tmp[1], c='r', marker='.', s=15)\n",
        "\n",
        "    ax.set_box_aspect([1, 1, 1])\n",
        "\n",
        "    for j in range(J.shape[1]):\n",
        "        point1 = joint[J[0, j] - 1, :]\n",
        "        point2 = joint[J[1, j] - 1, :]\n",
        "        ax.plot([point1[0], point2[0]], [point1[2], point2[2]], [point1[1], point2[1]], linewidth=2)\n",
        "\n",
        "    ax.set_xlim(minx, maxx)\n",
        "    ax.set_ylim(minz, maxz)\n",
        "    ax.set_zlim(miny, maxy)\n",
        "    ax.grid()\n",
        "\n",
        "    # Save the frame as an image\n",
        "    plt.savefig(f\"frames/frame_{frame_index:04d}.png\")\n",
        "    plt.close()\n",
        "\n",
        "\n",
        "\"\"\"skeleton_data = skl_data\n",
        "\n",
        "ss = []\n",
        "\n",
        "num_frame = skeleton_data.shape[2]\n",
        "\n",
        "for i in range(num_frame):\n",
        "    ss.append(skeleton_data[:, :, i])\n",
        "\n",
        "ss = np.vstack(ss)\n",
        "\n",
        "maxx = np.max(ss[:, 0])\n",
        "minx = np.min(ss[:, 0])\n",
        "maxy = np.max(ss[:, 1])\n",
        "miny = np.min(ss[:, 1])\n",
        "maxz = np.max(ss[:, 2])\n",
        "minz = np.min(ss[:, 2])\n",
        "\n",
        "# Loop through frames and save each frame as an image\n",
        "total_frames = skeleton_data.shape[2]\n",
        "for frame_index in range(total_frames):\n",
        "    save_joint_frame(skeleton_data, frame_index)\n",
        "\n",
        "\n",
        "#Saving a video from skeleton videos\n",
        "image_folder = 'frames'\n",
        "video_name = 'video.avi'\n",
        "\n",
        "images = [img for img in os.listdir(image_folder) if img.endswith(\".png\")]\n",
        "print(sorted(images))\n",
        "frame = cv2.imread(os.path.join(image_folder, images[0]))\n",
        "height, width, layers = frame.shape\n",
        "\n",
        "video = cv2.VideoWriter(video_name, 0, 1, (width,height))\n",
        "\n",
        "for image in images:\n",
        "    video.write(cv2.imread(os.path.join(image_folder, image)))\n",
        "\n",
        "cv2.destroyAllWindows()\n",
        "video.release()\"\"\""
      ]
    },
    {
      "cell_type": "markdown",
      "source": [
        "## Preprocessando dataset e preparando para executar"
      ],
      "metadata": {
        "id": "xYtFv02GkQjs"
      }
    },
    {
      "cell_type": "code",
      "execution_count": 12,
      "metadata": {
        "id": "ty6P-CKd6SQT",
        "colab": {
          "base_uri": "https://localhost:8080/"
        },
        "outputId": "64d1db3e-4bf2-44a5-dab3-2720b2721932"
      },
      "outputs": [
        {
          "output_type": "stream",
          "name": "stdout",
          "text": [
            "a5_s2_t3_skeleton (1).mat\n",
            "a18_s2_t1_skeleton (1).mat\n",
            "a4_s7_t2_skeleton (1).mat\n",
            "a5_s8_t1_skeleton (1).mat\n",
            "a1_s3_t2_skeleton (1).mat\n",
            "a9_s3_t1_skeleton (1).mat\n",
            "a19_s3_t2_skeleton (1).mat\n",
            "a22_s3_t3_skeleton (1).mat\n",
            "a1_s4_t3_skeleton (1).mat\n",
            "a5_s4_t3_skeleton (1).mat\n"
          ]
        }
      ],
      "source": [
        "debug = False\n",
        "plot = False\n",
        "interp = True\n",
        "# Define the new number of values, interpolation method, and desired output shape\n",
        "new_t = 150\n",
        "new_ts = 250\n",
        "interpolation_method = 'linear'  # Change to 'cubic', 'quadratic', etc. as needed\n",
        "\n",
        "def normalize_sensors(sensor):\n",
        "  return sensor\n",
        "\n",
        "def normalize_skeleton(sklt):\n",
        "  return sklt\n",
        "\n",
        "def prepare_dataset(dir_data):\n",
        "  sensors = os.path.join(dir_data, 'inertial')\n",
        "  sklts = os.path.join(dir_data, 'skeleton')\n",
        "\n",
        "  sensors = os.listdir(sensors)\n",
        "  sklts = os.listdir(sklts)\n",
        "\n",
        "  sensors = [s.replace('inertial.mat', '') for s in sensors]\n",
        "  sklts = [s.replace('skeleton.mat', '') for s in sklts]\n",
        "\n",
        "  list_dir = list(dict.fromkeys(sensors + sklts))\n",
        "\n",
        "  n_people = []\n",
        "  data_ssr, data_skl = {}, {}\n",
        "\n",
        "  for file_ in list_dir:\n",
        "    try:\n",
        "      inert = scipy.io.loadmat(os.path.join(dir_data, 'inertial',file_+'inertial.mat'))\n",
        "    except:\n",
        "      print(file_)\n",
        "      continue\n",
        "    signals = inert['d_iner']\n",
        "    if interp:\n",
        "      # Interpolate data to new_t using cubic interpolation\n",
        "      signals = interpolate_sensors(new_t, signals, kind='cubic')\n",
        "    signals = normalize_sensors(signals)\n",
        "    ind = file_.split('_')[1]\n",
        "    #signals = np.transpose(signals,(1,0))\n",
        "    #prints and plots\n",
        "    if debug:\n",
        "      print(signals.shape)\n",
        "      if plot:\n",
        "        # Plot the signals in the Jupyter Notebook\n",
        "        plot_signals(signals, title='Signals')\n",
        "\n",
        "    try:\n",
        "      sklet = scipy.io.loadmat(os.path.join(dir_data, 'skeleton',file_+'skeleton.mat'))\n",
        "    except:\n",
        "      print(file_)\n",
        "      continue\n",
        "    sklet = sklet['d_skel']\n",
        "    #(joints, axis, time)\n",
        "    skel_ = np.transpose(sklet,(2,0,1))\n",
        "    #(time, joints, axis)\n",
        "\n",
        "    if interp:\n",
        "      shp = skel_.shape\n",
        "      # Sample data with shape (t, points, axis)\n",
        "      t = shp[0]  # Number of time steps\n",
        "      points = shp[1] # Number of points\n",
        "      axis = shp[2]  # Number of axes\n",
        "\n",
        "      # Interpolate the data\n",
        "      skel_ = interpolate_data(skel_, new_ts, interpolation_method)\n",
        "      if debug:\n",
        "        # Print the original and interpolated data for illustration\n",
        "        print(\"Original Data Shape:\", shp)\n",
        "        print(\"Interpolated Data Shape:\", skel_.shape)\n",
        "    shp = skel_.shape\n",
        "    # Sample data with shape (t, points, axis)\n",
        "    t = shp[0]  # Number of time steps\n",
        "    #keep time ou keep space\n",
        "    #new_skel = skel_.reshape(t, -1)\n",
        "    new_skel = np.transpose(skel_,(0,1,2))\n",
        "    new_skel = normalize_skeleton(new_skel)\n",
        "\n",
        "    if ind in data_ssr:\n",
        "      data_ssr[ind].append(signals)\n",
        "      data_skl[ind].append(new_skel)\n",
        "    else:\n",
        "      data_ssr[ind] = [signals]\n",
        "      data_skl[ind] = [new_skel]\n",
        "    #prints and plots\n",
        "    if debug:\n",
        "      print(sklet.shape)\n",
        "      if plot:\n",
        "        show_joint_3D(new_skel)\n",
        "\n",
        "  #sensors_data, skeleton_data = np.array(sensors_data), np.array(skeleton_data)\n",
        "\n",
        "  if debug:\n",
        "    print('Shape data {}'.format(data_ssr.shape))\n",
        "\n",
        "  return data_skl, data_ssr\n",
        "\n",
        "\n",
        "data_skl, data_ssr = prepare_dataset(dir_data)"
      ]
    },
    {
      "cell_type": "markdown",
      "source": [
        "## Criando o modelo proposto"
      ],
      "metadata": {
        "id": "YZ_wQ44MkYYp"
      }
    },
    {
      "cell_type": "code",
      "source": [
        "input_shape = (224, 224, 3)\n",
        "learning_rate = 0.001\n",
        "weight_decay = 0.0001\n",
        "batch_size = 256\n",
        "num_epochs = 10  # For real training, use num_epochs=100. 10 is a test value\n",
        "image_size = 72  # We'll resize input images to this size\n",
        "patch_size = 6  # Size of the patches to be extract from the input images\n",
        "num_patches = (image_size // patch_size) ** 2\n",
        "projection_dim = 64\n",
        "num_heads = 4\n",
        "\n",
        "transformer_units = [\n",
        "    projection_dim * 2,\n",
        "    projection_dim,\n",
        "]  # Size of the transformer layers\n",
        "transformer_layers = 8\n",
        "mlp_head_units = [\n",
        "    32,\n",
        "    64,\n",
        "]  # Size of the dense layers of the final classifier\n",
        "\n",
        "\n",
        "def mlp(x, hidden_units, dropout_rate):\n",
        "    for units in hidden_units:\n",
        "        x = layers.Dense(units, activation=keras.activations.gelu)(x)\n",
        "        x = layers.Dropout(dropout_rate)(x)\n",
        "    return x\n",
        "\n",
        "def processing_input(x):\n",
        "    # Convolutional layers to process the input\n",
        "    x = layers.Conv2D(16, (3, 3), activation='relu')(x)\n",
        "    x = layers.Conv2D(32, (3, 3), activation='relu')(x)\n",
        "    x = layers.GlobalAveragePooling2D()(x)\n",
        "    x = layers.Dense(72 * 72 * 3, activation='sigmoid')(x)\n",
        "    output_layer = layers.Reshape((72, 72, 3))(x)\n",
        "    return output_layer\n",
        "\n",
        "class Patches(layers.Layer):\n",
        "    def __init__(self, patch_size):\n",
        "        super().__init__()\n",
        "        self.patch_size = patch_size\n",
        "\n",
        "    def call(self, images):\n",
        "        input_shape = ops.shape(images)\n",
        "        batch_size = input_shape[0]\n",
        "        height = input_shape[1]\n",
        "        width = input_shape[2]\n",
        "        channels = input_shape[3]\n",
        "        num_patches_h = height // self.patch_size\n",
        "        num_patches_w = width // self.patch_size\n",
        "        patches = keras.ops.image.extract_patches(images, size=self.patch_size)\n",
        "        patches = ops.reshape(\n",
        "            patches,\n",
        "            (\n",
        "                batch_size,\n",
        "                num_patches_h * num_patches_w,\n",
        "                self.patch_size * self.patch_size * channels,\n",
        "            ),\n",
        "        )\n",
        "        return patches\n",
        "\n",
        "    def get_config(self):\n",
        "        config = super().get_config()\n",
        "        config.update({\"patch_size\": self.patch_size})\n",
        "        return config\n",
        "\n",
        "\n",
        "class PatchEncoder(layers.Layer):\n",
        "    def __init__(self, num_patches, projection_dim):\n",
        "        super().__init__()\n",
        "        self.num_patches = num_patches\n",
        "        self.projection = layers.Dense(units=projection_dim)\n",
        "        self.position_embedding = layers.Embedding(\n",
        "            input_dim=num_patches, output_dim=projection_dim\n",
        "        )\n",
        "\n",
        "    def call(self, patch):\n",
        "        positions = ops.expand_dims(\n",
        "            ops.arange(start=0, stop=self.num_patches, step=1), axis=0\n",
        "        )\n",
        "        projected_patches = self.projection(patch)\n",
        "        encoded = projected_patches + self.position_embedding(positions)\n",
        "        return encoded\n",
        "\n",
        "    def get_config(self):\n",
        "        config = super().get_config()\n",
        "        config.update({\"num_patches\": self.num_patches})\n",
        "        return config\n",
        "\n",
        "def create_vit_classifier():\n",
        "    inputs = keras.Input(shape=(250, 20, 3))\n",
        "    # Augment data.\n",
        "    #augmented = data_augmentation(inputs)\n",
        "    out_conv = processing_input(inputs)\n",
        "    # Create patches.\n",
        "    patches = Patches(patch_size)(out_conv)\n",
        "    # Encode patches.\n",
        "    encoded_patches = PatchEncoder(num_patches, projection_dim)(patches)\n",
        "\n",
        "    # Create multiple layers of the Transformer block.\n",
        "    for _ in range(transformer_layers):\n",
        "        # Layer normalization 1.\n",
        "        x1 = layers.LayerNormalization(epsilon=1e-6)(encoded_patches)\n",
        "        # Create a multi-head attention layer.\n",
        "        attention_output = layers.MultiHeadAttention(\n",
        "            num_heads=num_heads, key_dim=projection_dim, dropout=0.1\n",
        "        )(x1, x1)\n",
        "        # Skip connection 1.\n",
        "        x2 = layers.Add()([attention_output, encoded_patches])\n",
        "        # Layer normalization 2.\n",
        "        x3 = layers.LayerNormalization(epsilon=1e-6)(x2)\n",
        "        # MLP.\n",
        "        x3 = mlp(x3, hidden_units=transformer_units, dropout_rate=0.1)\n",
        "        # Skip connection 2.\n",
        "        encoded_patches = layers.Add()([x3, x2])\n",
        "\n",
        "    # Create a [batch_size, projection_dim] tensor.\n",
        "    representation = layers.LayerNormalization(epsilon=1e-6)(encoded_patches)\n",
        "    representation = layers.Flatten()(representation)\n",
        "    representation = layers.Dropout(0.5)(representation)\n",
        "    # Add MLP.\n",
        "    features = mlp(representation, hidden_units=mlp_head_units, dropout_rate=0.5)\n",
        "    # out axi X\n",
        "    X = layers.Dense(150, activation='linear', name='X')(features)\n",
        "    # out axi Y\n",
        "    Y = layers.Dense(150, activation='linear', name='Y')(features)\n",
        "    # out axi Z\n",
        "    Z = layers.Dense(150, activation='linear', name='Z')(features)\n",
        "\n",
        "    # Create the Keras model.\n",
        "    model = keras.Model(inputs=inputs, outputs=[X,Y,Z])\n",
        "    return model\n",
        "\n",
        "\n",
        "\n",
        "def custom_dynamic_mse():\n",
        "    def loss(y_true, y_pred):\n",
        "        # Calculate the size of values in the second dimension for each sample\n",
        "        sizes = ops.sum(ops.sign(y_true), axis=1, keepdims=True)\n",
        "\n",
        "        # Create a mask to zero out irrelevant values in y_pred for each sample\n",
        "        mask = ops.sequence_mask(sizes[:, 0, 0], maxlen=254, dtype=ops.floatx())\n",
        "\n",
        "        # Calculate MSE only for the relevant values\n",
        "        squared_diff = ops.square(y_pred - y_true)\n",
        "        mse = ops.sum(squared_diff * mask) / ops.sum(mask + 1e-8)  # Avoid division by zero\n",
        "\n",
        "        return mse\n",
        "\n",
        "    return loss\n",
        "\n",
        "\n"
      ],
      "metadata": {
        "id": "SMBPWf-X-46q"
      },
      "execution_count": 13,
      "outputs": []
    },
    {
      "cell_type": "markdown",
      "source": [
        "## Treinando e avaliando o modelo"
      ],
      "metadata": {
        "id": "wFWX-weDkfih"
      }
    },
    {
      "cell_type": "code",
      "source": [
        "def plot_history(item):\n",
        "    plt.plot(history.history[item], label=item)\n",
        "    plt.plot(history.history[\"val_\" + item], label=\"val_\" + item)\n",
        "    plt.xlabel(\"Epochs\")\n",
        "    plt.ylabel(item)\n",
        "    plt.title(\"Train and Validation {} Over Epochs\".format(item), fontsize=14)\n",
        "    plt.legend()\n",
        "    plt.grid()\n",
        "    plt.show()\n",
        "\n",
        "def run_experiment(model, X_train, y_train, batch_, epoch_):\n",
        "    optimizer = keras.optimizers.AdamW(\n",
        "        learning_rate=learning_rate, weight_decay=weight_decay\n",
        "    )\n",
        "\n",
        "    model.compile(optimizer=optimizer,\n",
        "              loss={'X': 'mse', 'Y': 'mse', 'Z': 'mse'},\n",
        "              metrics={'X': 'mse', 'Y': 'mse', 'Z': 'mse'})\n",
        "\n",
        "    checkpoint_filepath = \"/content/drive/MyDrive/checkpoint.weights.h5\"\n",
        "    checkpoint_callback = keras.callbacks.ModelCheckpoint(\n",
        "        checkpoint_filepath,\n",
        "        monitor=\"val_mae\",\n",
        "        save_best_only=True,\n",
        "        save_weights_only=True,\n",
        "    )\n",
        "\n",
        "    history = model.fit(\n",
        "        x=np.array(X_train),\n",
        "        y=[y_train[:,:,0],y_train[:,:,1], y_train[:,:,2]],\n",
        "        batch_size=batch_,\n",
        "        epochs=epoch_,\n",
        "        validation_split=0.1,\n",
        "        callbacks=[checkpoint_callback],\n",
        "    )\n",
        "    #model.save(checkpoint_filepath)\n",
        "\n",
        "    return history, model"
      ],
      "metadata": {
        "id": "5qZVyo2C5GYg"
      },
      "execution_count": 14,
      "outputs": []
    },
    {
      "cell_type": "code",
      "source": [
        "from sklearn.datasets import make_regression\n",
        "# create dataset\n",
        "#X, y = make_regression(n_samples=1000, n_features=10, n_informative=5, n_targets=3, random_state=2)\n",
        "# summarize shape\n",
        "result = []\n",
        "for key in data_ssr.keys():\n",
        "    X_train, y_train, X_test, y_test = [], [], [], []\n",
        "    # Get the list associated with the key\n",
        "    current_list = data_ssr[key]\n",
        "    # Get the shape (length) of the list\n",
        "    list_shape = len(current_list)\n",
        "    # Print key and shape\n",
        "    print(f\"Key: {key}, Shape: {list_shape}\")\n",
        "    for v in data_ssr.keys():\n",
        "      if v == key:\n",
        "        X_test = np.array(data_skl[v])\n",
        "        y_test = np.array(data_ssr[v])\n",
        "      else:\n",
        "        if len(X_train) == 0:\n",
        "          X_train = data_skl[v]\n",
        "          y_train = data_ssr[v]\n",
        "        else:\n",
        "          X_train = np.concatenate([X_train,data_skl[v]])\n",
        "          y_train = np.concatenate([y_train,data_ssr[v]])\n",
        "\n",
        "    vit_classifier = create_vit_classifier()\n",
        "    history, model = run_experiment(vit_classifier, X_train, y_train, batch_=64, epoch_=35)\n",
        "\n",
        "    #model = keras.models.load_model(checkpoint_filepath)\n",
        "    y_pred = model.predict(X_test)\n",
        "    output = model.evaluate(X_test, [y_test[:,:,0],y_test[:,:,1],y_test[:,:,2]])\n",
        "    print(f\"Error: {output}\")\n",
        "    result.append(output)\n",
        "    del model\n",
        "    break\n",
        "\n",
        "plot_history(\"loss\")"
      ],
      "metadata": {
        "colab": {
          "base_uri": "https://localhost:8080/",
          "height": 1000
        },
        "id": "2F0sDm2_Uayr",
        "outputId": "f0879c2d-f3b0-4dca-f251-7f297c57e837"
      },
      "execution_count": 17,
      "outputs": [
        {
          "output_type": "stream",
          "name": "stdout",
          "text": [
            "Key: s1, Shape: 107\n",
            "Epoch 1/35\n",
            "\u001b[1m11/11\u001b[0m \u001b[32m━━━━━━━━━━━━━━━━━━━━\u001b[0m\u001b[37m\u001b[0m \u001b[1m154s\u001b[0m 7s/step - X_mse: 1.5117 - Y_mse: 0.8470 - Z_mse: 0.7905 - loss: 3.1463 - val_X_mse: 0.8790 - val_Y_mse: 0.2644 - val_Z_mse: 0.2957 - val_loss: 1.2813\n",
            "Epoch 2/35\n"
          ]
        },
        {
          "output_type": "stream",
          "name": "stderr",
          "text": [
            "/usr/local/lib/python3.10/dist-packages/keras/src/callbacks/model_checkpoint.py:205: UserWarning: Can save best model only with val_mae available, skipping.\n",
            "  self._save_model(epoch=epoch, batch=None, logs=logs)\n"
          ]
        },
        {
          "output_type": "stream",
          "name": "stdout",
          "text": [
            "\u001b[1m11/11\u001b[0m \u001b[32m━━━━━━━━━━━━━━━━━━━━\u001b[0m\u001b[37m\u001b[0m \u001b[1m15s\u001b[0m 85ms/step - X_mse: 1.0201 - Y_mse: 0.3878 - Z_mse: 0.3158 - loss: 1.7237 - val_X_mse: 0.8640 - val_Y_mse: 0.2594 - val_Z_mse: 0.2943 - val_loss: 1.2596\n",
            "Epoch 3/35\n",
            "\u001b[1m11/11\u001b[0m \u001b[32m━━━━━━━━━━━━━━━━━━━━\u001b[0m\u001b[37m\u001b[0m \u001b[1m1s\u001b[0m 84ms/step - X_mse: 0.9869 - Y_mse: 0.3669 - Z_mse: 0.3115 - loss: 1.6657 - val_X_mse: 0.8481 - val_Y_mse: 0.2543 - val_Z_mse: 0.2930 - val_loss: 1.2368\n",
            "Epoch 4/35\n",
            "\u001b[1m11/11\u001b[0m \u001b[32m━━━━━━━━━━━━━━━━━━━━\u001b[0m\u001b[37m\u001b[0m \u001b[1m1s\u001b[0m 86ms/step - X_mse: 0.9701 - Y_mse: 0.3623 - Z_mse: 0.3041 - loss: 1.6369 - val_X_mse: 0.8310 - val_Y_mse: 0.2491 - val_Z_mse: 0.2917 - val_loss: 1.2128\n",
            "Epoch 5/35\n",
            "\u001b[1m11/11\u001b[0m \u001b[32m━━━━━━━━━━━━━━━━━━━━\u001b[0m\u001b[37m\u001b[0m \u001b[1m1s\u001b[0m 86ms/step - X_mse: 0.9610 - Y_mse: 0.3560 - Z_mse: 0.2943 - loss: 1.6117 - val_X_mse: 0.8118 - val_Y_mse: 0.2436 - val_Z_mse: 0.2906 - val_loss: 1.1866\n",
            "Epoch 6/35\n",
            "\u001b[1m11/11\u001b[0m \u001b[32m━━━━━━━━━━━━━━━━━━━━\u001b[0m\u001b[37m\u001b[0m \u001b[1m1s\u001b[0m 86ms/step - X_mse: 0.9591 - Y_mse: 0.3528 - Z_mse: 0.3071 - loss: 1.6192 - val_X_mse: 0.7899 - val_Y_mse: 0.2378 - val_Z_mse: 0.2894 - val_loss: 1.1574\n",
            "Epoch 7/35\n",
            "\u001b[1m11/11\u001b[0m \u001b[32m━━━━━━━━━━━━━━━━━━━━\u001b[0m\u001b[37m\u001b[0m \u001b[1m1s\u001b[0m 82ms/step - X_mse: 0.9157 - Y_mse: 0.3414 - Z_mse: 0.3071 - loss: 1.5638 - val_X_mse: 0.7643 - val_Y_mse: 0.2315 - val_Z_mse: 0.2883 - val_loss: 1.1243\n",
            "Epoch 8/35\n",
            "\u001b[1m11/11\u001b[0m \u001b[32m━━━━━━━━━━━━━━━━━━━━\u001b[0m\u001b[37m\u001b[0m \u001b[1m1s\u001b[0m 80ms/step - X_mse: 0.8688 - Y_mse: 0.3483 - Z_mse: 0.3067 - loss: 1.5243 - val_X_mse: 0.7348 - val_Y_mse: 0.2250 - val_Z_mse: 0.2873 - val_loss: 1.0873\n",
            "Epoch 9/35\n",
            "\u001b[1m11/11\u001b[0m \u001b[32m━━━━━━━━━━━━━━━━━━━━\u001b[0m\u001b[37m\u001b[0m \u001b[1m1s\u001b[0m 80ms/step - X_mse: 0.8883 - Y_mse: 0.3360 - Z_mse: 0.3124 - loss: 1.5359 - val_X_mse: 0.7006 - val_Y_mse: 0.2181 - val_Z_mse: 0.2865 - val_loss: 1.0454\n",
            "Epoch 10/35\n",
            "\u001b[1m11/11\u001b[0m \u001b[32m━━━━━━━━━━━━━━━━━━━━\u001b[0m\u001b[37m\u001b[0m \u001b[1m1s\u001b[0m 81ms/step - X_mse: 0.8253 - Y_mse: 0.3251 - Z_mse: 0.2998 - loss: 1.4493 - val_X_mse: 0.6627 - val_Y_mse: 0.2115 - val_Z_mse: 0.2859 - val_loss: 1.0003\n",
            "Epoch 11/35\n",
            "\u001b[1m11/11\u001b[0m \u001b[32m━━━━━━━━━━━━━━━━━━━━\u001b[0m\u001b[37m\u001b[0m \u001b[1m1s\u001b[0m 80ms/step - X_mse: 0.7791 - Y_mse: 0.3055 - Z_mse: 0.2913 - loss: 1.3754 - val_X_mse: 0.6221 - val_Y_mse: 0.2055 - val_Z_mse: 0.2855 - val_loss: 0.9538\n",
            "Epoch 12/35\n",
            "\u001b[1m11/11\u001b[0m \u001b[32m━━━━━━━━━━━━━━━━━━━━\u001b[0m\u001b[37m\u001b[0m \u001b[1m1s\u001b[0m 80ms/step - X_mse: 0.7471 - Y_mse: 0.3112 - Z_mse: 0.3032 - loss: 1.3608 - val_X_mse: 0.5806 - val_Y_mse: 0.2007 - val_Z_mse: 0.2850 - val_loss: 0.9087\n",
            "Epoch 13/35\n",
            "\u001b[1m11/11\u001b[0m \u001b[32m━━━━━━━━━━━━━━━━━━━━\u001b[0m\u001b[37m\u001b[0m \u001b[1m1s\u001b[0m 80ms/step - X_mse: 0.6754 - Y_mse: 0.2990 - Z_mse: 0.3053 - loss: 1.2797 - val_X_mse: 0.5400 - val_Y_mse: 0.1975 - val_Z_mse: 0.2848 - val_loss: 0.8664\n",
            "Epoch 14/35\n",
            "\u001b[1m11/11\u001b[0m \u001b[32m━━━━━━━━━━━━━━━━━━━━\u001b[0m\u001b[37m\u001b[0m \u001b[1m1s\u001b[0m 78ms/step - X_mse: 0.6439 - Y_mse: 0.2990 - Z_mse: 0.3018 - loss: 1.2448 - val_X_mse: 0.5023 - val_Y_mse: 0.1960 - val_Z_mse: 0.2848 - val_loss: 0.8290\n",
            "Epoch 15/35\n",
            "\u001b[1m11/11\u001b[0m \u001b[32m━━━━━━━━━━━━━━━━━━━━\u001b[0m\u001b[37m\u001b[0m \u001b[1m1s\u001b[0m 82ms/step - X_mse: 0.6378 - Y_mse: 0.2796 - Z_mse: 0.2962 - loss: 1.2137 - val_X_mse: 0.4697 - val_Y_mse: 0.1962 - val_Z_mse: 0.2846 - val_loss: 0.7988\n",
            "Epoch 16/35\n",
            "\u001b[1m11/11\u001b[0m \u001b[32m━━━━━━━━━━━━━━━━━━━━\u001b[0m\u001b[37m\u001b[0m \u001b[1m1s\u001b[0m 84ms/step - X_mse: 0.5935 - Y_mse: 0.2747 - Z_mse: 0.2956 - loss: 1.1638 - val_X_mse: 0.4431 - val_Y_mse: 0.1975 - val_Z_mse: 0.2847 - val_loss: 0.7758\n",
            "Epoch 17/35\n",
            "\u001b[1m11/11\u001b[0m \u001b[32m━━━━━━━━━━━━━━━━━━━━\u001b[0m\u001b[37m\u001b[0m \u001b[1m1s\u001b[0m 87ms/step - X_mse: 0.5577 - Y_mse: 0.2794 - Z_mse: 0.2941 - loss: 1.1305 - val_X_mse: 0.4236 - val_Y_mse: 0.1994 - val_Z_mse: 0.2847 - val_loss: 0.7610\n",
            "Epoch 18/35\n",
            "\u001b[1m11/11\u001b[0m \u001b[32m━━━━━━━━━━━━━━━━━━━━\u001b[0m\u001b[37m\u001b[0m \u001b[1m1s\u001b[0m 87ms/step - X_mse: 0.5416 - Y_mse: 0.2826 - Z_mse: 0.2951 - loss: 1.1198 - val_X_mse: 0.4100 - val_Y_mse: 0.2010 - val_Z_mse: 0.2843 - val_loss: 0.7525\n",
            "Epoch 19/35\n",
            "\u001b[1m11/11\u001b[0m \u001b[32m━━━━━━━━━━━━━━━━━━━━\u001b[0m\u001b[37m\u001b[0m \u001b[1m1s\u001b[0m 88ms/step - X_mse: 0.5190 - Y_mse: 0.2811 - Z_mse: 0.2977 - loss: 1.0989 - val_X_mse: 0.4018 - val_Y_mse: 0.2023 - val_Z_mse: 0.2838 - val_loss: 0.7490\n",
            "Epoch 20/35\n",
            "\u001b[1m11/11\u001b[0m \u001b[32m━━━━━━━━━━━━━━━━━━━━\u001b[0m\u001b[37m\u001b[0m \u001b[1m1s\u001b[0m 86ms/step - X_mse: 0.5266 - Y_mse: 0.2875 - Z_mse: 0.3100 - loss: 1.1238 - val_X_mse: 0.3958 - val_Y_mse: 0.2028 - val_Z_mse: 0.2838 - val_loss: 0.7449\n",
            "Epoch 21/35\n",
            "\u001b[1m11/11\u001b[0m \u001b[32m━━━━━━━━━━━━━━━━━━━━\u001b[0m\u001b[37m\u001b[0m \u001b[1m1s\u001b[0m 81ms/step - X_mse: 0.4988 - Y_mse: 0.2833 - Z_mse: 0.3006 - loss: 1.0835 - val_X_mse: 0.3929 - val_Y_mse: 0.2031 - val_Z_mse: 0.2839 - val_loss: 0.7444\n",
            "Epoch 22/35\n",
            "\u001b[1m11/11\u001b[0m \u001b[32m━━━━━━━━━━━━━━━━━━━━\u001b[0m\u001b[37m\u001b[0m \u001b[1m1s\u001b[0m 81ms/step - X_mse: 0.5159 - Y_mse: 0.2815 - Z_mse: 0.3144 - loss: 1.1108 - val_X_mse: 0.3909 - val_Y_mse: 0.2028 - val_Z_mse: 0.2842 - val_loss: 0.7432\n",
            "Epoch 23/35\n",
            "\u001b[1m11/11\u001b[0m \u001b[32m━━━━━━━━━━━━━━━━━━━━\u001b[0m\u001b[37m\u001b[0m \u001b[1m1s\u001b[0m 78ms/step - X_mse: 0.4916 - Y_mse: 0.2765 - Z_mse: 0.3028 - loss: 1.0710 - val_X_mse: 0.3902 - val_Y_mse: 0.2025 - val_Z_mse: 0.2842 - val_loss: 0.7439\n",
            "Epoch 24/35\n",
            "\u001b[1m11/11\u001b[0m \u001b[32m━━━━━━━━━━━━━━━━━━━━\u001b[0m\u001b[37m\u001b[0m \u001b[1m1s\u001b[0m 80ms/step - X_mse: 0.4800 - Y_mse: 0.2849 - Z_mse: 0.3007 - loss: 1.0674 - val_X_mse: 0.3897 - val_Y_mse: 0.2027 - val_Z_mse: 0.2839 - val_loss: 0.7456\n",
            "Epoch 25/35\n",
            "\u001b[1m11/11\u001b[0m \u001b[32m━━━━━━━━━━━━━━━━━━━━\u001b[0m\u001b[37m\u001b[0m \u001b[1m1s\u001b[0m 79ms/step - X_mse: 0.4910 - Y_mse: 0.2788 - Z_mse: 0.3006 - loss: 1.0711 - val_X_mse: 0.3888 - val_Y_mse: 0.2020 - val_Z_mse: 0.2838 - val_loss: 0.7434\n",
            "Epoch 26/35\n",
            "\u001b[1m11/11\u001b[0m \u001b[32m━━━━━━━━━━━━━━━━━━━━\u001b[0m\u001b[37m\u001b[0m \u001b[1m1s\u001b[0m 78ms/step - X_mse: 0.5338 - Y_mse: 0.2811 - Z_mse: 0.3022 - loss: 1.1167 - val_X_mse: 0.3883 - val_Y_mse: 0.2016 - val_Z_mse: 0.2841 - val_loss: 0.7424\n",
            "Epoch 27/35\n",
            "\u001b[1m11/11\u001b[0m \u001b[32m━━━━━━━━━━━━━━━━━━━━\u001b[0m\u001b[37m\u001b[0m \u001b[1m2s\u001b[0m 104ms/step - X_mse: 0.4950 - Y_mse: 0.2785 - Z_mse: 0.2985 - loss: 1.0714 - val_X_mse: 0.3882 - val_Y_mse: 0.2014 - val_Z_mse: 0.2842 - val_loss: 0.7427\n",
            "Epoch 28/35\n",
            "\u001b[1m11/11\u001b[0m \u001b[32m━━━━━━━━━━━━━━━━━━━━\u001b[0m\u001b[37m\u001b[0m \u001b[1m1s\u001b[0m 84ms/step - X_mse: 0.5088 - Y_mse: 0.2747 - Z_mse: 0.2912 - loss: 1.0755 - val_X_mse: 0.3882 - val_Y_mse: 0.2013 - val_Z_mse: 0.2842 - val_loss: 0.7422\n",
            "Epoch 29/35\n",
            "\u001b[1m11/11\u001b[0m \u001b[32m━━━━━━━━━━━━━━━━━━━━\u001b[0m\u001b[37m\u001b[0m \u001b[1m1s\u001b[0m 81ms/step - X_mse: 0.5249 - Y_mse: 0.2750 - Z_mse: 0.3058 - loss: 1.1061 - val_X_mse: 0.3880 - val_Y_mse: 0.2011 - val_Z_mse: 0.2840 - val_loss: 0.7421\n",
            "Epoch 30/35\n",
            "\u001b[1m11/11\u001b[0m \u001b[32m━━━━━━━━━━━━━━━━━━━━\u001b[0m\u001b[37m\u001b[0m \u001b[1m1s\u001b[0m 87ms/step - X_mse: 0.4941 - Y_mse: 0.2782 - Z_mse: 0.2977 - loss: 1.0691 - val_X_mse: 0.3883 - val_Y_mse: 0.2017 - val_Z_mse: 0.2840 - val_loss: 0.7441\n",
            "Epoch 31/35\n",
            "\u001b[1m11/11\u001b[0m \u001b[32m━━━━━━━━━━━━━━━━━━━━\u001b[0m\u001b[37m\u001b[0m \u001b[1m1s\u001b[0m 85ms/step - X_mse: 0.4926 - Y_mse: 0.2752 - Z_mse: 0.2986 - loss: 1.0660 - val_X_mse: 0.3880 - val_Y_mse: 0.2014 - val_Z_mse: 0.2842 - val_loss: 0.7431\n",
            "Epoch 32/35\n",
            "\u001b[1m11/11\u001b[0m \u001b[32m━━━━━━━━━━━━━━━━━━━━\u001b[0m\u001b[37m\u001b[0m \u001b[1m1s\u001b[0m 82ms/step - X_mse: 0.5097 - Y_mse: 0.2766 - Z_mse: 0.2986 - loss: 1.0855 - val_X_mse: 0.3879 - val_Y_mse: 0.2012 - val_Z_mse: 0.2839 - val_loss: 0.7434\n",
            "Epoch 33/35\n",
            "\u001b[1m11/11\u001b[0m \u001b[32m━━━━━━━━━━━━━━━━━━━━\u001b[0m\u001b[37m\u001b[0m \u001b[1m1s\u001b[0m 87ms/step - X_mse: 0.4978 - Y_mse: 0.2777 - Z_mse: 0.3050 - loss: 1.0803 - val_X_mse: 0.3882 - val_Y_mse: 0.2015 - val_Z_mse: 0.2838 - val_loss: 0.7449\n",
            "Epoch 34/35\n",
            "\u001b[1m11/11\u001b[0m \u001b[32m━━━━━━━━━━━━━━━━━━━━\u001b[0m\u001b[37m\u001b[0m \u001b[1m1s\u001b[0m 80ms/step - X_mse: 0.4748 - Y_mse: 0.2762 - Z_mse: 0.3025 - loss: 1.0535 - val_X_mse: 0.3886 - val_Y_mse: 0.2018 - val_Z_mse: 0.2838 - val_loss: 0.7464\n",
            "Epoch 35/35\n",
            "\u001b[1m11/11\u001b[0m \u001b[32m━━━━━━━━━━━━━━━━━━━━\u001b[0m\u001b[37m\u001b[0m \u001b[1m1s\u001b[0m 101ms/step - X_mse: 0.4858 - Y_mse: 0.2689 - Z_mse: 0.3002 - loss: 1.0544 - val_X_mse: 0.3886 - val_Y_mse: 0.2018 - val_Z_mse: 0.2838 - val_loss: 0.7464\n",
            "\u001b[1m4/4\u001b[0m \u001b[32m━━━━━━━━━━━━━━━━━━━━\u001b[0m\u001b[37m\u001b[0m \u001b[1m6s\u001b[0m 1s/step\n",
            "\u001b[1m4/4\u001b[0m \u001b[32m━━━━━━━━━━━━━━━━━━━━\u001b[0m\u001b[37m\u001b[0m \u001b[1m5s\u001b[0m 674ms/step - X_mse: 0.3798 - Y_mse: 0.2741 - Z_mse: 0.3918 - loss: 1.0446\n",
            "Error: [1.0187321901321411, 0.3958928883075714, 0.2584448456764221, 0.36731377243995667]\n"
          ]
        },
        {
          "output_type": "display_data",
          "data": {
            "text/plain": [
              "<Figure size 640x480 with 1 Axes>"
            ],
            "image/png": "[encoded data removed]"
          },
          "metadata": {}
        }
      ]
    },
    {
      "cell_type": "code",
      "source": [
        "while True:pass"
      ],
      "metadata": {
        "id": "SYXMKgaJikZM"
      },
      "execution_count": null,
      "outputs": []
    },
    {
      "cell_type": "code",
      "source": [
        "import numpy as np\n",
        "\n",
        "# Example array with shape (t, f, a)\n",
        "t, f, a = 3, 4, 2\n",
        "original_array = np.random.rand(t, f, a)\n",
        "\n",
        "# Reshape to (t, f*a)\n",
        "reshaped_array = original_array.reshape(t, f * a)\n",
        "\n",
        "# Verify the shapes\n",
        "print(\"Original array shape:\", original_array.shape)\n",
        "print(\"Reshaped array shape:\", reshaped_array.shape)\n",
        "\n",
        "# Verify if reshaping back to the original shape retains the values\n",
        "restored_array = reshaped_array.reshape(t, f, a)\n",
        "print(\"Restored array shape:\", restored_array.shape)\n",
        "\n",
        "# Check if the original and restored arrays are equal\n",
        "print(\"Arrays are equal:\", np.array_equal(original_array, restored_array))\n"
      ],
      "metadata": {
        "id": "RW6gYc4F6lq1",
        "colab": {
          "base_uri": "https://localhost:8080/"
        },
        "outputId": "c2726105-1b46-4566-d62b-ae76b2234df9"
      },
      "execution_count": null,
      "outputs": [
        {
          "output_type": "stream",
          "name": "stdout",
          "text": [
            "Original array shape: (3, 4, 2)\n",
            "Reshaped array shape: (3, 8)\n",
            "Restored array shape: (3, 4, 2)\n",
            "Arrays are equal: True\n"
          ]
        }
      ]
    }
  ],
  "metadata": {
    "colab": {
      "provenance": [],
      "gpuType": "T4"
    },
    "kernelspec": {
      "display_name": "Python 3",
      "name": "python3"
    },
    "language_info": {
      "name": "python"
    },
    "accelerator": "GPU"
  },
  "nbformat": 4,
  "nbformat_minor": 0
}